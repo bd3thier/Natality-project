{
 "cells": [
  {
   "cell_type": "markdown",
   "metadata": {},
   "source": [
    "# Natality project: predictive analysis #\n",
    "\n",
    "This is the continuation of the Machine Learning section of the Natality project. See details and other parts on [Github](https://github.com/bd3thier/Natality-project).\n",
    "\n",
    "## 2. Classification Models ##"
   ]
  },
  {
   "cell_type": "code",
   "execution_count": 1,
   "metadata": {},
   "outputs": [],
   "source": [
    "# Load packages\n",
    "import pandas as pd\n",
    "import matplotlib.pyplot as plt\n",
    "import numpy as np\n",
    "import scipy.stats as stats\n",
    "import sklearn\n",
    "from sklearn import metrics\n",
    "from sklearn.metrics import precision_recall_fscore_support\n",
    "import seaborn as sns\n",
    "from sklearn.model_selection import GridSearchCV\n",
    "from statsmodels.graphics.mosaicplot import mosaic"
   ]
  },
  {
   "cell_type": "code",
   "execution_count": 2,
   "metadata": {},
   "outputs": [
    {
     "data": {
      "text/html": [
       "<div>\n",
       "<style scoped>\n",
       "    .dataframe tbody tr th:only-of-type {\n",
       "        vertical-align: middle;\n",
       "    }\n",
       "\n",
       "    .dataframe tbody tr th {\n",
       "        vertical-align: top;\n",
       "    }\n",
       "\n",
       "    .dataframe thead th {\n",
       "        text-align: right;\n",
       "    }\n",
       "</style>\n",
       "<table border=\"1\" class=\"dataframe\">\n",
       "  <thead>\n",
       "    <tr style=\"text-align: right;\">\n",
       "      <th></th>\n",
       "      <th>mother_age</th>\n",
       "      <th>total_birth_order</th>\n",
       "      <th>month_prenatal_care_began</th>\n",
       "      <th>mother_height</th>\n",
       "      <th>prepregnancy_weight</th>\n",
       "      <th>previous_cesareans</th>\n",
       "      <th>plural_birth</th>\n",
       "      <th>obstetric_estimate</th>\n",
       "      <th>birth_month-10</th>\n",
       "      <th>birth_month-11</th>\n",
       "      <th>...</th>\n",
       "      <th>interval-0</th>\n",
       "      <th>interval-1</th>\n",
       "      <th>interval-2</th>\n",
       "      <th>interval-3</th>\n",
       "      <th>interval-4</th>\n",
       "      <th>interval-5</th>\n",
       "      <th>interval-6</th>\n",
       "      <th>interval-7</th>\n",
       "      <th>interval-8</th>\n",
       "      <th>interval-9</th>\n",
       "    </tr>\n",
       "  </thead>\n",
       "  <tbody>\n",
       "    <tr>\n",
       "      <th>0</th>\n",
       "      <td>30</td>\n",
       "      <td>4</td>\n",
       "      <td>3</td>\n",
       "      <td>66</td>\n",
       "      <td>5.247024</td>\n",
       "      <td>0</td>\n",
       "      <td>1</td>\n",
       "      <td>40</td>\n",
       "      <td>0</td>\n",
       "      <td>0</td>\n",
       "      <td>...</td>\n",
       "      <td>False</td>\n",
       "      <td>False</td>\n",
       "      <td>False</td>\n",
       "      <td>True</td>\n",
       "      <td>False</td>\n",
       "      <td>False</td>\n",
       "      <td>False</td>\n",
       "      <td>False</td>\n",
       "      <td>False</td>\n",
       "      <td>False</td>\n",
       "    </tr>\n",
       "    <tr>\n",
       "      <th>1</th>\n",
       "      <td>28</td>\n",
       "      <td>2</td>\n",
       "      <td>5</td>\n",
       "      <td>71</td>\n",
       "      <td>5.370638</td>\n",
       "      <td>0</td>\n",
       "      <td>1</td>\n",
       "      <td>36</td>\n",
       "      <td>0</td>\n",
       "      <td>0</td>\n",
       "      <td>...</td>\n",
       "      <td>False</td>\n",
       "      <td>False</td>\n",
       "      <td>False</td>\n",
       "      <td>False</td>\n",
       "      <td>False</td>\n",
       "      <td>False</td>\n",
       "      <td>False</td>\n",
       "      <td>False</td>\n",
       "      <td>True</td>\n",
       "      <td>False</td>\n",
       "    </tr>\n",
       "    <tr>\n",
       "      <th>2</th>\n",
       "      <td>23</td>\n",
       "      <td>3</td>\n",
       "      <td>5</td>\n",
       "      <td>64</td>\n",
       "      <td>4.927254</td>\n",
       "      <td>0</td>\n",
       "      <td>1</td>\n",
       "      <td>39</td>\n",
       "      <td>0</td>\n",
       "      <td>0</td>\n",
       "      <td>...</td>\n",
       "      <td>False</td>\n",
       "      <td>False</td>\n",
       "      <td>False</td>\n",
       "      <td>False</td>\n",
       "      <td>False</td>\n",
       "      <td>True</td>\n",
       "      <td>False</td>\n",
       "      <td>False</td>\n",
       "      <td>False</td>\n",
       "      <td>False</td>\n",
       "    </tr>\n",
       "    <tr>\n",
       "      <th>3</th>\n",
       "      <td>26</td>\n",
       "      <td>2</td>\n",
       "      <td>2</td>\n",
       "      <td>67</td>\n",
       "      <td>5.298317</td>\n",
       "      <td>0</td>\n",
       "      <td>1</td>\n",
       "      <td>39</td>\n",
       "      <td>0</td>\n",
       "      <td>0</td>\n",
       "      <td>...</td>\n",
       "      <td>False</td>\n",
       "      <td>False</td>\n",
       "      <td>False</td>\n",
       "      <td>False</td>\n",
       "      <td>False</td>\n",
       "      <td>True</td>\n",
       "      <td>False</td>\n",
       "      <td>False</td>\n",
       "      <td>False</td>\n",
       "      <td>False</td>\n",
       "    </tr>\n",
       "    <tr>\n",
       "      <th>4</th>\n",
       "      <td>31</td>\n",
       "      <td>1</td>\n",
       "      <td>3</td>\n",
       "      <td>67</td>\n",
       "      <td>5.192957</td>\n",
       "      <td>0</td>\n",
       "      <td>1</td>\n",
       "      <td>40</td>\n",
       "      <td>0</td>\n",
       "      <td>0</td>\n",
       "      <td>...</td>\n",
       "      <td>False</td>\n",
       "      <td>False</td>\n",
       "      <td>False</td>\n",
       "      <td>False</td>\n",
       "      <td>False</td>\n",
       "      <td>False</td>\n",
       "      <td>False</td>\n",
       "      <td>False</td>\n",
       "      <td>False</td>\n",
       "      <td>False</td>\n",
       "    </tr>\n",
       "  </tbody>\n",
       "</table>\n",
       "<p>5 rows × 88 columns</p>\n",
       "</div>"
      ],
      "text/plain": [
       "   mother_age  total_birth_order  month_prenatal_care_began  mother_height  \\\n",
       "0          30                  4                          3             66   \n",
       "1          28                  2                          5             71   \n",
       "2          23                  3                          5             64   \n",
       "3          26                  2                          2             67   \n",
       "4          31                  1                          3             67   \n",
       "\n",
       "   prepregnancy_weight  previous_cesareans  plural_birth  obstetric_estimate  \\\n",
       "0             5.247024                   0             1                  40   \n",
       "1             5.370638                   0             1                  36   \n",
       "2             4.927254                   0             1                  39   \n",
       "3             5.298317                   0             1                  39   \n",
       "4             5.192957                   0             1                  40   \n",
       "\n",
       "   birth_month-10  birth_month-11  ...  interval-0  interval-1  interval-2  \\\n",
       "0               0               0  ...       False       False       False   \n",
       "1               0               0  ...       False       False       False   \n",
       "2               0               0  ...       False       False       False   \n",
       "3               0               0  ...       False       False       False   \n",
       "4               0               0  ...       False       False       False   \n",
       "\n",
       "   interval-3  interval-4  interval-5  interval-6  interval-7  interval-8  \\\n",
       "0        True       False       False       False       False       False   \n",
       "1       False       False       False       False       False        True   \n",
       "2       False       False        True       False       False       False   \n",
       "3       False       False        True       False       False       False   \n",
       "4       False       False       False       False       False       False   \n",
       "\n",
       "   interval-9  \n",
       "0       False  \n",
       "1       False  \n",
       "2       False  \n",
       "3       False  \n",
       "4       False  \n",
       "\n",
       "[5 rows x 88 columns]"
      ]
     },
     "execution_count": 2,
     "metadata": {},
     "output_type": "execute_result"
    }
   ],
   "source": [
    "# Load dataset\n",
    "data = pd.read_csv('data/df_dummy_var_log_transfo.csv')\n",
    "data.head()"
   ]
  },
  {
   "cell_type": "code",
   "execution_count": 3,
   "metadata": {},
   "outputs": [],
   "source": [
    "# Create label column\n",
    "data['premature'] = data.obstetric_estimate.between(0, 36)\n",
    "df=data.drop('obstetric_estimate', axis = 1)"
   ]
  },
  {
   "cell_type": "code",
   "execution_count": 4,
   "metadata": {},
   "outputs": [],
   "source": [
    "# Split into train and test sets\n",
    "from sklearn.model_selection import train_test_split\n",
    "from sklearn.linear_model import LogisticRegression\n",
    "X = df.drop(['premature'], axis = 1)\n",
    "y = df.premature\n",
    "\n",
    "X_train, X_test, y_train, y_test = train_test_split(X, y, test_size = 0.3, random_state= 2, \n",
    "                                                    stratify = y)"
   ]
  },
  {
   "cell_type": "code",
   "execution_count": 5,
   "metadata": {},
   "outputs": [
    {
     "name": "stdout",
     "output_type": "stream",
     "text": [
      "Percentage of premature births: 8.33 %\n"
     ]
    }
   ],
   "source": [
    "# Check percentage of premature births\n",
    "print('Percentage of premature births:', np.round(y.value_counts()[1]/y.count()*100, 2), '%')"
   ]
  },
  {
   "cell_type": "markdown",
   "metadata": {},
   "source": [
    "### 1. Linear Classifiers: Logistic Regression and linear SVM\n",
    "\n",
    "We start with a simple logistic regression using the default parameters to have an idea."
   ]
  },
  {
   "cell_type": "code",
   "execution_count": 6,
   "metadata": {},
   "outputs": [
    {
     "data": {
      "text/plain": [
       "LogisticRegression(C=1.0, class_weight=None, dual=False, fit_intercept=True,\n",
       "                   intercept_scaling=1, l1_ratio=None, max_iter=100,\n",
       "                   multi_class='auto', n_jobs=None, penalty='l2',\n",
       "                   random_state=None, solver='lbfgs', tol=0.0001, verbose=0,\n",
       "                   warm_start=False)"
      ]
     },
     "execution_count": 6,
     "metadata": {},
     "output_type": "execute_result"
    }
   ],
   "source": [
    "# This creates a LogisticRegression object\n",
    "lg = LogisticRegression()\n",
    "lg"
   ]
  },
  {
   "cell_type": "code",
   "execution_count": 7,
   "metadata": {},
   "outputs": [
    {
     "name": "stderr",
     "output_type": "stream",
     "text": [
      "C:\\Users\\beren\\anaconda3\\envs\\TensorFlow-GPU\\lib\\site-packages\\sklearn\\linear_model\\_logistic.py:940: ConvergenceWarning: lbfgs failed to converge (status=1):\n",
      "STOP: TOTAL NO. of ITERATIONS REACHED LIMIT.\n",
      "\n",
      "Increase the number of iterations (max_iter) or scale the data as shown in:\n",
      "    https://scikit-learn.org/stable/modules/preprocessing.html\n",
      "Please also refer to the documentation for alternative solver options:\n",
      "    https://scikit-learn.org/stable/modules/linear_model.html#logistic-regression\n",
      "  extra_warning_msg=_LOGISTIC_SOLVER_CONVERGENCE_MSG)\n"
     ]
    },
    {
     "data": {
      "text/plain": [
       "LogisticRegression(C=1.0, class_weight=None, dual=False, fit_intercept=True,\n",
       "                   intercept_scaling=1, l1_ratio=None, max_iter=100,\n",
       "                   multi_class='auto', n_jobs=None, penalty='l2',\n",
       "                   random_state=None, solver='lbfgs', tol=0.0001, verbose=0,\n",
       "                   warm_start=False)"
      ]
     },
     "execution_count": 7,
     "metadata": {},
     "output_type": "execute_result"
    }
   ],
   "source": [
    "# Fit the model\n",
    "lg.fit(X_train, y_train)"
   ]
  },
  {
   "cell_type": "code",
   "execution_count": 10,
   "metadata": {},
   "outputs": [
    {
     "name": "stdout",
     "output_type": "stream",
     "text": [
      "Area under ROC = 0.71\n"
     ]
    }
   ],
   "source": [
    "#Predict labels and probabilities of test set\n",
    "predictions = lg.predict(X_test)\n",
    "proba = lg.predict_proba(X_test)\n",
    "# Assess performance: ROC and AUC\n",
    "fpr, tpr, _ = metrics.roc_curve(y_test, proba[:,1])\n",
    "auc = metrics.auc(fpr, tpr)\n",
    "print('Area under ROC =', np.round(auc, 2))"
   ]
  },
  {
   "cell_type": "code",
   "execution_count": 11,
   "metadata": {},
   "outputs": [
    {
     "data": {
      "image/png": "[encoded data removed]",
      "text/plain": [
       "<Figure size 432x288 with 1 Axes>"
      ]
     },
     "metadata": {
      "needs_background": "light"
     },
     "output_type": "display_data"
    }
   ],
   "source": [
    "#Plot ROC\n",
    "plt.plot([0, 1], [0, 1], 'k--')\n",
    "plt.plot(fpr, tpr, label='Logistic reg')\n",
    "plt.xlabel('False positive rate')\n",
    "plt.ylabel('True positive rate')\n",
    "plt.title('ROC curve')\n",
    "plt.legend(loc='best')\n",
    "plt.show()"
   ]
  },
  {
   "cell_type": "code",
   "execution_count": 9,
   "metadata": {},
   "outputs": [
    {
     "name": "stdout",
     "output_type": "stream",
     "text": [
      "Confusion matrix:  [[525548   2418]\n",
      " [ 42395   5495]]\n"
     ]
    },
    {
     "data": {
      "text/plain": [
       "<sklearn.metrics._plot.confusion_matrix.ConfusionMatrixDisplay at 0x2a03ba10be0>"
      ]
     },
     "execution_count": 9,
     "metadata": {},
     "output_type": "execute_result"
    },
    {
     "data": {
      "image/png": "[encoded data removed]",
      "text/plain": [
       "<Figure size 432x288 with 2 Axes>"
      ]
     },
     "metadata": {
      "needs_background": "light"
     },
     "output_type": "display_data"
    }
   ],
   "source": [
    "#Confusion matrix\n",
    "confusion_matrix = metrics.confusion_matrix(y_test, predictions)\n",
    "print('Confusion matrix: ', confusion_matrix)\n",
    "metrics.plot_confusion_matrix(lg, X_test, y_test)"
   ]
  },
  {
   "cell_type": "code",
   "execution_count": 16,
   "metadata": {},
   "outputs": [
    {
     "name": "stdout",
     "output_type": "stream",
     "text": [
      "Precision : 0.690\n",
      "Recall : 0.109\n",
      "Accuracy :  0.922\n"
     ]
    }
   ],
   "source": [
    "precision = metrics.precision_score(y_test, predictions)\n",
    "print('Precision : {0:0.3f}'.format(precision))\n",
    "print('Recall :', np.round(metrics.recall_score(y_test, predictions),3))\n",
    "print('Accuracy : ',np.round(metrics.accuracy_score(y_test, predictions),3))"
   ]
  },
  {
   "cell_type": "code",
   "execution_count": 15,
   "metadata": {
    "scrolled": true
   },
   "outputs": [
    {
     "data": {
      "image/png": "[encoded data removed]",
      "text/plain": [
       "<Figure size 432x288 with 1 Axes>"
      ]
     },
     "metadata": {
      "needs_background": "light"
     },
     "output_type": "display_data"
    }
   ],
   "source": [
    "# Plot precision recall curve\n",
    "precision, recall, thresholds = metrics.precision_recall_curve(y_test, proba[:,1])\n",
    "plt.step(recall, precision, color='b', alpha=0.2, where='post')\n",
    "plt.fill_between(recall, precision, step='post', alpha=0.2, color='b')\n",
    "plt.xlabel('Recall')\n",
    "plt.ylabel('Precision')\n",
    "plt.ylim([0.0, 1.05])\n",
    "plt.xlim([0.0, 1.0]) \n",
    "plt.show()"
   ]
  },
  {
   "cell_type": "markdown",
   "metadata": {},
   "source": [
    "The area under the curve is 0.71, which is a good start. Let's try to optimize the hyperparameter and see how it performs."
   ]
  },
  {
   "cell_type": "markdown",
   "metadata": {},
   "source": [
    "#### Tune Hyperparameters\n",
    "\n",
    "We can tune simultaneously for the two linear classifiers: logistic regression (loss = log) and linear SVM (loss = hinge)"
   ]
  },
  {
   "cell_type": "code",
   "execution_count": 12,
   "metadata": {},
   "outputs": [
    {
     "name": "stdout",
     "output_type": "stream",
     "text": [
      "Fitting 3 folds for each of 24 candidates, totalling 72 fits\n"
     ]
    },
    {
     "name": "stderr",
     "output_type": "stream",
     "text": [
      "[Parallel(n_jobs=-1)]: Using backend LokyBackend with 8 concurrent workers.\n",
      "[Parallel(n_jobs=-1)]: Done  34 tasks      | elapsed:  2.9min\n",
      "[Parallel(n_jobs=-1)]: Done  72 out of  72 | elapsed:  3.8min finished\n"
     ]
    },
    {
     "name": "stdout",
     "output_type": "stream",
     "text": [
      "Best CV params {'alpha': 0.001, 'loss': 'log', 'penalty': 'l1'}\n",
      "Best CV accuracy 0.9220518254270723\n",
      "Test accuracy of best grid search hypers: 0.9219422911283376\n"
     ]
    }
   ],
   "source": [
    "from sklearn.linear_model import SGDClassifier\n",
    "\n",
    "# We set random_state=2 for reproducibility \n",
    "linear_classifier = SGDClassifier(random_state=2)\n",
    "\n",
    "# Instantiate the GridSearchCV object and run the search\n",
    "grid_parameters = {'alpha':[0.00001, 0.0001, 0.001, 0.01, 0.1, 1], \n",
    "             'loss':['hinge', 'log'], 'penalty':['l1', 'l2']}\n",
    "searcher = GridSearchCV(linear_classifier, grid_parameters, cv=3, verbose = 1, n_jobs = -1)\n",
    "searcher.fit(X_train, y_train)\n",
    "\n",
    "# Report the best parameters and the corresponding score\n",
    "print(\"Best CV params\", searcher.best_params_)\n",
    "print(\"Best CV accuracy\", searcher.best_score_)\n",
    "print(\"Test accuracy of best grid search hypers:\", searcher.score(X_test, y_test))"
   ]
  },
  {
   "cell_type": "markdown",
   "metadata": {},
   "source": [
    "The hinge loss is preferred, meaning an SVM type of model. We can compare the performances with the logistic regression of-the-shelf:"
   ]
  },
  {
   "cell_type": "code",
   "execution_count": 16,
   "metadata": {},
   "outputs": [
    {
     "data": {
      "text/plain": [
       "SGDClassifier(alpha=0.001, average=False, class_weight=None,\n",
       "              early_stopping=False, epsilon=0.1, eta0=0.0, fit_intercept=True,\n",
       "              l1_ratio=0.15, learning_rate='optimal', loss='log', max_iter=1000,\n",
       "              n_iter_no_change=5, n_jobs=None, penalty='l1', power_t=0.5,\n",
       "              random_state=2, shuffle=True, tol=0.001, validation_fraction=0.1,\n",
       "              verbose=0, warm_start=False)"
      ]
     },
     "execution_count": 16,
     "metadata": {},
     "output_type": "execute_result"
    }
   ],
   "source": [
    "best_sgd = searcher.best_estimator_\n",
    "best_sgd.fit(X_train, y_train)"
   ]
  },
  {
   "cell_type": "code",
   "execution_count": 19,
   "metadata": {},
   "outputs": [
    {
     "name": "stdout",
     "output_type": "stream",
     "text": [
      "Area under ROC = 0.69\n"
     ]
    }
   ],
   "source": [
    "#Predict labels and probabilities of test set\n",
    "predictions = best_sgd.predict(X_test)\n",
    "proba = best_sgd.predict_proba(X_test)\n",
    "# Assess performance: ROC and AUC\n",
    "fpr, tpr, _ = metrics.roc_curve(y_test, proba[:,1])\n",
    "# Assess performance: ROC and AUC\n",
    "fpr, tpr, _ = metrics.roc_curve(y_test, proba[:,1])\n",
    "auc = metrics.auc(fpr, tpr)\n",
    "print('Area under ROC =', np.round(auc, 2))"
   ]
  },
  {
   "cell_type": "code",
   "execution_count": 20,
   "metadata": {},
   "outputs": [
    {
     "data": {
      "image/png": "[encoded data removed]",
      "text/plain": [
       "<Figure size 432x288 with 1 Axes>"
      ]
     },
     "metadata": {
      "needs_background": "light"
     },
     "output_type": "display_data"
    }
   ],
   "source": [
    "#Plot ROC\n",
    "plt.plot([0, 1], [0, 1], 'k--')\n",
    "plt.plot(fpr, tpr, label='Logistic reg')\n",
    "plt.xlabel('False positive rate')\n",
    "plt.ylabel('True positive rate')\n",
    "plt.title('ROC curve')\n",
    "plt.legend(loc='best')\n",
    "plt.show()"
   ]
  },
  {
   "cell_type": "code",
   "execution_count": 15,
   "metadata": {
    "scrolled": true
   },
   "outputs": [
    {
     "name": "stdout",
     "output_type": "stream",
     "text": [
      "Precision : 0.691\n",
      "Recall : 0.116\n",
      "Accuracy :  0.922\n"
     ]
    }
   ],
   "source": [
    "print('Precision : {0:0.3f}'.format(metrics.precision_score(y_test, predictions)))\n",
    "print('Recall :', np.round(metrics.recall_score(y_test, predictions),3))\n",
    "print('Accuracy : ',np.round(metrics.accuracy_score(y_test, predictions),3))"
   ]
  },
  {
   "cell_type": "code",
   "execution_count": 21,
   "metadata": {
    "scrolled": true
   },
   "outputs": [
    {
     "data": {
      "image/png": "[encoded data removed]",
      "text/plain": [
       "<Figure size 432x288 with 1 Axes>"
      ]
     },
     "metadata": {
      "needs_background": "light"
     },
     "output_type": "display_data"
    }
   ],
   "source": [
    "# Plot precision recall curve\n",
    "precision, recall, thresholds = metrics.precision_recall_curve(y_test, proba[:,1])\n",
    "plt.step(recall, precision, color='b', alpha=0.2, where='post')\n",
    "plt.fill_between(recall, precision, step='post', alpha=0.2, color='b')\n",
    "plt.xlabel('Recall')\n",
    "plt.ylabel('Precision')\n",
    "plt.ylim([0.0, 1.05])\n",
    "plt.xlim([0.0, 1.0]) \n",
    "plt.show()"
   ]
  },
  {
   "cell_type": "markdown",
   "metadata": {},
   "source": [
    "Even after optimization the area under the curve is 0.69 (0.5 is a random classification). We can try to standardize the features to improve more, then move on to other, non-linear models."
   ]
  },
  {
   "cell_type": "markdown",
   "metadata": {},
   "source": [
    "#### Standardize features"
   ]
  },
  {
   "cell_type": "code",
   "execution_count": 5,
   "metadata": {},
   "outputs": [],
   "source": [
    "from sklearn.preprocessing import StandardScaler\n",
    "scaler = StandardScaler().fit(X_train)\n",
    "standardized_X = scaler.transform(X_train)\n",
    "standardized_X_test = scaler.transform(X_test)"
   ]
  },
  {
   "cell_type": "code",
   "execution_count": 23,
   "metadata": {},
   "outputs": [
    {
     "name": "stdout",
     "output_type": "stream",
     "text": [
      "Fitting 3 folds for each of 6 candidates, totalling 18 fits\n"
     ]
    },
    {
     "name": "stderr",
     "output_type": "stream",
     "text": [
      "[Parallel(n_jobs=-1)]: Using backend LokyBackend with 8 concurrent workers.\n",
      "[Parallel(n_jobs=-1)]: Done  18 out of  18 | elapsed:  5.5min finished\n"
     ]
    },
    {
     "name": "stdout",
     "output_type": "stream",
     "text": [
      "Best CV params {'C': 0.001}\n",
      "Total number of features: 87\n",
      "Number of selected features: 45\n"
     ]
    }
   ],
   "source": [
    "from sklearn.model_selection import GridSearchCV\n",
    "lr = LogisticRegression(solver='liblinear', penalty='l1')\n",
    "\n",
    "# Instantiate the GridSearchCV object and run the search\n",
    "searcher = GridSearchCV(lr, {'C':[.0001, 0.001, 0.01, 0.1, 1, 10]}, cv=3, verbose = 1, n_jobs = -1)\n",
    "searcher.fit(standardized_X, y_train)\n",
    "\n",
    "# Report the best parameters\n",
    "print(\"Best CV params\", searcher.best_params_)\n",
    "\n",
    "# Find the number of nonzero coefficients (selected features)\n",
    "best_lr = searcher.best_estimator_\n",
    "coefs = best_lr.coef_\n",
    "print(\"Total number of features:\", coefs.size)\n",
    "print(\"Number of selected features:\", np.count_nonzero(coefs))"
   ]
  },
  {
   "cell_type": "code",
   "execution_count": 29,
   "metadata": {},
   "outputs": [
    {
     "name": "stdout",
     "output_type": "stream",
     "text": [
      "Area under ROC = 0.71\n"
     ]
    }
   ],
   "source": [
    "#Predict labels and probabilities of test set\n",
    "predictions = best_lr.predict(standardized_X_test)\n",
    "proba = best_lr.predict_proba(standardized_X_test)\n",
    "# Assess performance: ROC and AUC\n",
    "fpr, tpr, _ = metrics.roc_curve(y_test, proba[:,1])\n",
    "# Assess performance: ROC and AUC\n",
    "fpr, tpr, _ = metrics.roc_curve(y_test, proba[:,1])\n",
    "auc = metrics.auc(fpr, tpr)\n",
    "print('Area under ROC =', np.round(auc, 2))"
   ]
  },
  {
   "cell_type": "code",
   "execution_count": 30,
   "metadata": {},
   "outputs": [
    {
     "name": "stdout",
     "output_type": "stream",
     "text": [
      "Precision : 0.695\n",
      "Recall : 0.115\n",
      "Accuracy :  0.922\n"
     ]
    }
   ],
   "source": [
    "print('Precision : {0:0.3f}'.format(metrics.precision_score(y_test, predictions)))\n",
    "print('Recall :', np.round(metrics.recall_score(y_test, predictions),3))\n",
    "print('Accuracy : ',np.round(metrics.accuracy_score(y_test, predictions),3))"
   ]
  },
  {
   "cell_type": "code",
   "execution_count": 31,
   "metadata": {},
   "outputs": [
    {
     "data": {
      "image/png": "[encoded data removed]",
      "text/plain": [
       "<Figure size 432x288 with 1 Axes>"
      ]
     },
     "metadata": {
      "needs_background": "light"
     },
     "output_type": "display_data"
    }
   ],
   "source": [
    "# Plot precision recall curve\n",
    "precision, recall, thresholds = metrics.precision_recall_curve(y_test, proba[:,1])\n",
    "plt.step(recall, precision, color='b', alpha=0.2, where='post')\n",
    "plt.fill_between(recall, precision, step='post', alpha=0.2, color='b')\n",
    "plt.xlabel('Recall')\n",
    "plt.ylabel('Precision')\n",
    "plt.ylim([0.0, 1.05])\n",
    "plt.xlim([0.0, 1.0]) \n",
    "plt.show()"
   ]
  },
  {
   "cell_type": "code",
   "execution_count": 26,
   "metadata": {},
   "outputs": [],
   "source": [
    "# Make arrays with only the important features\n",
    "important_features_indices = np.where(coefs != 0)\n",
    "important_X_train = standardized_X[:, important_features_indices[1]]\n",
    "important_X_test = standardized_X_test[:, important_features_indices[1]]"
   ]
  },
  {
   "cell_type": "code",
   "execution_count": 27,
   "metadata": {},
   "outputs": [
    {
     "data": {
      "text/plain": [
       "(1343662, 45)"
      ]
     },
     "execution_count": 27,
     "metadata": {},
     "output_type": "execute_result"
    }
   ],
   "source": [
    "# Sanity check\n",
    "important_X_train.shape"
   ]
  },
  {
   "cell_type": "markdown",
   "metadata": {},
   "source": [
    "The logistic regression is slightly improved by standardization.\n",
    "\n",
    "We are not going to use the list of important features right now, but go back to the general linear classifier. We want to optimize it on the standardized set as well to compare performances (Gridsearch for SGD classifier on the standardized_X_train):"
   ]
  },
  {
   "cell_type": "code",
   "execution_count": 28,
   "metadata": {},
   "outputs": [
    {
     "name": "stdout",
     "output_type": "stream",
     "text": [
      "Fitting 3 folds for each of 24 candidates, totalling 72 fits\n"
     ]
    },
    {
     "name": "stderr",
     "output_type": "stream",
     "text": [
      "[Parallel(n_jobs=-1)]: Using backend LokyBackend with 8 concurrent workers.\n",
      "[Parallel(n_jobs=-1)]: Done  34 tasks      | elapsed:   58.6s\n",
      "[Parallel(n_jobs=-1)]: Done  72 out of  72 | elapsed:  1.5min finished\n"
     ]
    },
    {
     "name": "stdout",
     "output_type": "stream",
     "text": [
      "Best CV params {'alpha': 0.001, 'loss': 'log', 'penalty': 'l1'}\n",
      "Best CV accuracy 0.9221746241417117\n",
      "Test accuracy of best grid search hypers: 0.9221315745603067\n"
     ]
    }
   ],
   "source": [
    "from sklearn.linear_model import SGDClassifier\n",
    "\n",
    "# We set random_state=2 for reproducibility \n",
    "linear_classifier = SGDClassifier(random_state=2)\n",
    "\n",
    "# Instantiate the GridSearchCV object and run the search\n",
    "grid_parameters = {'alpha':[0.00001, 0.0001, 0.001, 0.01, 0.1, 1], \n",
    "             'loss':['hinge', 'log'], 'penalty':['l1', 'l2']}\n",
    "searcher = GridSearchCV(linear_classifier, grid_parameters, cv=3, verbose = 1, n_jobs = -1)\n",
    "searcher.fit(standardized_X, y_train)\n",
    "\n",
    "# Report the best parameters and the corresponding score\n",
    "print(\"Best CV params\", searcher.best_params_)\n",
    "print(\"Best CV accuracy\", searcher.best_score_)\n",
    "print(\"Test accuracy of best grid search hypers:\", searcher.score(standardized_X_test, y_test))"
   ]
  },
  {
   "cell_type": "code",
   "execution_count": 32,
   "metadata": {},
   "outputs": [
    {
     "name": "stdout",
     "output_type": "stream",
     "text": [
      "Area under ROC = 0.71\n"
     ]
    }
   ],
   "source": [
    "best_sgd = searcher.best_estimator_\n",
    "#Predict labels and probabilities of test set\n",
    "predictions = best_sgd.predict(standardized_X_test)\n",
    "proba = best_sgd.predict_proba(standardized_X_test)\n",
    "# Assess performance: ROC and AUC\n",
    "fpr, tpr, _ = metrics.roc_curve(y_test, proba[:,1])\n",
    "# Assess performance: ROC and AUC\n",
    "fpr, tpr, _ = metrics.roc_curve(y_test, proba[:,1])\n",
    "auc = metrics.auc(fpr, tpr)\n",
    "print('Area under ROC =', np.round(auc, 2))"
   ]
  },
  {
   "cell_type": "code",
   "execution_count": 33,
   "metadata": {},
   "outputs": [
    {
     "data": {
      "image/png": "[encoded data removed]",
      "text/plain": [
       "<Figure size 432x288 with 1 Axes>"
      ]
     },
     "metadata": {
      "needs_background": "light"
     },
     "output_type": "display_data"
    }
   ],
   "source": [
    "#Plot ROC\n",
    "plt.plot([0, 1], [0, 1], 'k--')\n",
    "plt.plot(fpr, tpr, label='Standardized optimized linear classifier')\n",
    "plt.xlabel('False positive rate')\n",
    "plt.ylabel('True positive rate')\n",
    "plt.title('ROC curve')\n",
    "plt.legend(loc='best')\n",
    "plt.show()"
   ]
  },
  {
   "cell_type": "code",
   "execution_count": 21,
   "metadata": {},
   "outputs": [
    {
     "name": "stdout",
     "output_type": "stream",
     "text": [
      "Precision : 0.697\n",
      "Recall : 0.116\n",
      "Accuracy :  0.922\n"
     ]
    }
   ],
   "source": [
    "print('Precision : {0:0.3f}'.format(metrics.precision_score(y_test, predictions)))\n",
    "print('Recall :', np.round(metrics.recall_score(y_test, predictions),3))\n",
    "print('Accuracy : ',np.round(metrics.accuracy_score(y_test, predictions),3))"
   ]
  },
  {
   "cell_type": "code",
   "execution_count": 35,
   "metadata": {},
   "outputs": [
    {
     "data": {
      "image/png": "[encoded data removed]",
      "text/plain": [
       "<Figure size 432x288 with 1 Axes>"
      ]
     },
     "metadata": {
      "needs_background": "light"
     },
     "output_type": "display_data"
    }
   ],
   "source": [
    "# Plot precision recall curve\n",
    "precision, recall, thresholds = metrics.precision_recall_curve(y_test, proba[:,1])\n",
    "plt.step(recall, precision, color='b', alpha=0.2, where='post')\n",
    "plt.fill_between(recall, precision, step='post', alpha=0.2, color='b')\n",
    "plt.xlabel('Recall')\n",
    "plt.ylabel('Precision')\n",
    "plt.ylim([0.0, 1.05])\n",
    "plt.xlim([0.0, 1.0]) \n",
    "plt.show()"
   ]
  },
  {
   "cell_type": "markdown",
   "metadata": {},
   "source": [
    "Optimization and standardization of linear classifiers did not improve the performances that much. We move to a different type of classifier."
   ]
  },
  {
   "cell_type": "markdown",
   "metadata": {},
   "source": [
    "### 2. k Nearest Neighbors ###"
   ]
  },
  {
   "cell_type": "code",
   "execution_count": 6,
   "metadata": {},
   "outputs": [
    {
     "data": {
      "text/plain": [
       "(95975, 88)"
      ]
     },
     "execution_count": 6,
     "metadata": {},
     "output_type": "execute_result"
    }
   ],
   "source": [
    "# Take 10% of the dataset because it would be too long to train on the full set (see documentation, 'impractical beyond tens of thousands of samples)')\n",
    "# Then we changed to 5% because it was still too slow but did not change the name of the variable!\n",
    "np.random.seed(2)\n",
    "subdf5, subdf95 = np.split(df.sample(frac=1), [int(.05*len(df))])\n",
    "subdf5.shape"
   ]
  },
  {
   "cell_type": "code",
   "execution_count": 7,
   "metadata": {},
   "outputs": [],
   "source": [
    "# Split train and test set for 5% of the dataset\n",
    "from sklearn.model_selection import train_test_split\n",
    "\n",
    "X5 = subdf5.drop(['premature'], axis = 1)\n",
    "y5 = subdf5.premature\n",
    "X5_train, X5_test, y5_train, y5_test = train_test_split(X5, y5, test_size = 0.3, random_state= 2)"
   ]
  },
  {
   "cell_type": "code",
   "execution_count": 8,
   "metadata": {},
   "outputs": [],
   "source": [
    "# Standardize 5% of the dataset\n",
    "from sklearn.preprocessing import StandardScaler\n",
    "scaler = StandardScaler().fit(X5_train)\n",
    "standardized_X5 = scaler.transform(X5_train)\n",
    "standardized_X5_test = scaler.transform(X5_test)"
   ]
  },
  {
   "cell_type": "code",
   "execution_count": 9,
   "metadata": {},
   "outputs": [],
   "source": [
    "from sklearn.neighbors import KNeighborsClassifier"
   ]
  },
  {
   "cell_type": "code",
   "execution_count": 10,
   "metadata": {},
   "outputs": [
    {
     "name": "stdout",
     "output_type": "stream",
     "text": [
      "Fitting 3 folds for each of 6 candidates, totalling 18 fits\n"
     ]
    },
    {
     "name": "stderr",
     "output_type": "stream",
     "text": [
      "[Parallel(n_jobs=4)]: Using backend LokyBackend with 4 concurrent workers.\n",
      "[Parallel(n_jobs=4)]: Done  18 out of  18 | elapsed:  9.5min finished\n"
     ]
    }
   ],
   "source": [
    "from sklearn.model_selection import GridSearchCV\n",
    "knn = KNeighborsClassifier()\n",
    "grid_parameters = {'n_neighbors': [5,11,19], 'weights': ['uniform', 'distance']}\n",
    "searcher= GridSearchCV(knn, grid_parameters, verbose = 1, cv = 3, n_jobs = 4)\n",
    "knnB = searcher.fit(standardized_X5, y5_train)"
   ]
  },
  {
   "cell_type": "code",
   "execution_count": 11,
   "metadata": {},
   "outputs": [
    {
     "name": "stdout",
     "output_type": "stream",
     "text": [
      "Best CV params {'n_neighbors': 19, 'weights': 'distance'}\n",
      "Best CV accuracy 0.9218838379327797\n",
      "Test accuracy of best grid search hypers: 0.9197027055187025\n"
     ]
    }
   ],
   "source": [
    "# Report the best parameters and the corresponding score\n",
    "print(\"Best CV params\", searcher.best_params_)\n",
    "print(\"Best CV accuracy\", searcher.best_score_)\n",
    "\n",
    "# Report the test accuracy using these best parameters\n",
    "print(\"Test accuracy of best grid search hypers:\", searcher.score(standardized_X5_test, y5_test))"
   ]
  },
  {
   "cell_type": "code",
   "execution_count": 13,
   "metadata": {},
   "outputs": [
    {
     "data": {
      "text/plain": [
       "KNeighborsClassifier(algorithm='auto', leaf_size=30, metric='minkowski',\n",
       "                     metric_params=None, n_jobs=8, n_neighbors=19, p=2,\n",
       "                     weights='distance')"
      ]
     },
     "execution_count": 13,
     "metadata": {},
     "output_type": "execute_result"
    }
   ],
   "source": [
    "knn = KNeighborsClassifier(n_neighbors= 19, weights= 'distance' , n_jobs = 8)\n",
    "knn.fit(standardized_X5, y5_train)"
   ]
  },
  {
   "cell_type": "code",
   "execution_count": 14,
   "metadata": {},
   "outputs": [
    {
     "name": "stdout",
     "output_type": "stream",
     "text": [
      "Area under ROC = 0.65\n"
     ]
    }
   ],
   "source": [
    "#Predict labels and probabilities of test set\n",
    "predictions = knn.predict(standardized_X_test)\n",
    "proba = knn.predict_proba(standardized_X_test)\n",
    "# Assess performance: ROC and AUC\n",
    "fpr, tpr, _ = metrics.roc_curve(y_test, proba[:,1])\n",
    "# Assess performance: ROC and AUC\n",
    "fpr, tpr, _ = metrics.roc_curve(y_test, proba[:,1])\n",
    "auc = metrics.auc(fpr, tpr)\n",
    "print('Area under ROC =', np.round(auc, 2))"
   ]
  },
  {
   "cell_type": "code",
   "execution_count": 15,
   "metadata": {},
   "outputs": [
    {
     "name": "stdout",
     "output_type": "stream",
     "text": [
      "Area under ROC = 0.65\n"
     ]
    }
   ],
   "source": [
    "fpr, tpr, _ = metrics.roc_curve(y_test, proba[:,1])\n",
    "auc = metrics.auc(fpr, tpr)\n",
    "print('Area under ROC =', np.round(auc, 2))"
   ]
  },
  {
   "cell_type": "code",
   "execution_count": 16,
   "metadata": {},
   "outputs": [
    {
     "data": {
      "image/png": "[encoded data removed]",
      "text/plain": [
       "<Figure size 432x288 with 1 Axes>"
      ]
     },
     "metadata": {
      "needs_background": "light"
     },
     "output_type": "display_data"
    }
   ],
   "source": [
    "#Plot ROC\n",
    "plt.plot([0, 1], [0, 1], 'k--')\n",
    "plt.plot(fpr, tpr, label='kNN (optimized)')\n",
    "plt.xlabel('False positive rate')\n",
    "plt.ylabel('True positive rate')\n",
    "plt.title('ROC curve')\n",
    "plt.legend(loc='best')\n",
    "plt.show()"
   ]
  },
  {
   "cell_type": "code",
   "execution_count": 17,
   "metadata": {},
   "outputs": [
    {
     "name": "stdout",
     "output_type": "stream",
     "text": [
      "kNN (optimized) confusion matrix:  [[525831   2078]\n",
      " [ 41691   6256]]\n"
     ]
    },
    {
     "data": {
      "text/plain": [
       "(<Figure size 432x288 with 3 Axes>,\n",
       " OrderedDict([(('0', '0'), (0.0, 0.0, 0.8730836809731533, 0.9639326279290927)),\n",
       "              (('0', '1'),\n",
       "               (0.0,\n",
       "                0.9961906924452217,\n",
       "                0.8730836809731533,\n",
       "                0.003809307554778378)),\n",
       "              (('1', '0'),\n",
       "               (0.9207027285922009,\n",
       "                0.0,\n",
       "                0.07929727140779906,\n",
       "                0.8414734818082062)),\n",
       "              (('1', '1'),\n",
       "               (0.9207027285922009,\n",
       "                0.8737315463243354,\n",
       "                0.07929727140779906,\n",
       "                0.12626845367566478))]))"
      ]
     },
     "execution_count": 17,
     "metadata": {},
     "output_type": "execute_result"
    },
    {
     "data": {
      "image/png": "[encoded data removed]",
      "text/plain": [
       "<Figure size 432x288 with 3 Axes>"
      ]
     },
     "metadata": {
      "needs_background": "light"
     },
     "output_type": "display_data"
    }
   ],
   "source": [
    "# Confusion matrix\n",
    "confusion_matrix = metrics.confusion_matrix(y_test, predictions)\n",
    "print('kNN (optimized) confusion matrix: ', confusion_matrix)\n",
    "mosaic(confusion_matrix, gap=0.05, title='confusion matrix')"
   ]
  },
  {
   "cell_type": "code",
   "execution_count": 18,
   "metadata": {},
   "outputs": [
    {
     "name": "stdout",
     "output_type": "stream",
     "text": [
      "Precision : 0.751\n",
      "Recall : 0.13\n",
      "Accuracy :  0.924\n"
     ]
    }
   ],
   "source": [
    "# Print precision, recall and accuracy score\n",
    "print('Precision : {0:0.3f}'.format(metrics.precision_score(y_test, predictions)))\n",
    "print('Recall :', np.round(metrics.recall_score(y_test, predictions),3))\n",
    "print('Accuracy : ',np.round(metrics.accuracy_score(y_test, predictions),3))"
   ]
  },
  {
   "cell_type": "code",
   "execution_count": 19,
   "metadata": {},
   "outputs": [
    {
     "data": {
      "image/png": "[encoded data removed]",
      "text/plain": [
       "<Figure size 432x288 with 1 Axes>"
      ]
     },
     "metadata": {
      "needs_background": "light"
     },
     "output_type": "display_data"
    }
   ],
   "source": [
    "# Plot precision recall curve\n",
    "precision, recall, thresholds = metrics.precision_recall_curve(y_test, proba[:,1])\n",
    "plt.step(recall, precision, color='b', alpha=0.2, where='post', label='kNN (optimized)')\n",
    "plt.fill_between(recall, precision, step='post', alpha=0.2, color='b')\n",
    "plt.xlabel('Recall')\n",
    "plt.ylabel('Precision')\n",
    "plt.ylim([0.0, 1.05])\n",
    "\n",
    "plt.xlim([0.0, 1.0]) \n",
    "plt.show()"
   ]
  },
  {
   "cell_type": "markdown",
   "metadata": {},
   "source": [
    "kNN doesn't do as well as a logistic regression. We move on to non-linear SVM."
   ]
  },
  {
   "cell_type": "markdown",
   "metadata": {},
   "source": [
    "### 3. SVM - non linear kernels"
   ]
  },
  {
   "cell_type": "code",
   "execution_count": 20,
   "metadata": {},
   "outputs": [],
   "source": [
    "from sklearn.svm import SVC"
   ]
  },
  {
   "cell_type": "code",
   "execution_count": 10,
   "metadata": {},
   "outputs": [
    {
     "name": "stdout",
     "output_type": "stream",
     "text": [
      "Fitting 3 folds for each of 27 candidates, totalling 81 fits\n"
     ]
    },
    {
     "name": "stderr",
     "output_type": "stream",
     "text": [
      "[Parallel(n_jobs=-1)]: Using backend LokyBackend with 8 concurrent workers.\n",
      "[Parallel(n_jobs=-1)]: Done  34 tasks      | elapsed: 18.2min\n",
      "[Parallel(n_jobs=-1)]: Done  81 out of  81 | elapsed: 171.9min finished\n"
     ]
    },
    {
     "name": "stdout",
     "output_type": "stream",
     "text": [
      "Best CV params {'C': 1, 'gamma': 0.001, 'kernel': 'sigmoid'}\n",
      "Best CV accuracy 0.922806704176714\n",
      "Test accuracy of best grid search hypers: 0.9209530094120099\n"
     ]
    }
   ],
   "source": [
    "from sklearn.model_selection import GridSearchCV\n",
    "# Instantiate an SVM\n",
    "svm = SVC()\n",
    "\n",
    "# Instantiate the GridSearchCV object and run the search\n",
    "grid_parameters = {'kernel': ['poly', 'rbf', 'sigmoid'], 'gamma':[0.00001, 0.001, 0.1], 'C': [0.01, 1, 100]}\n",
    "searcher = GridSearchCV(svm, grid_parameters, cv = 3, verbose = 1, n_jobs = -1)\n",
    "searcher.fit(standardized_X10, y10_train)\n",
    "\n",
    "# Report the best parameters and the corresponding score\n",
    "print(\"Best CV params\", searcher.best_params_)\n",
    "print(\"Best CV accuracy\", searcher.best_score_)\n",
    "\n",
    "# Report the test accuracy using these best parameters\n",
    "print(\"Test accuracy of best grid search hypers:\", searcher.score(standardized_X5_test, y5_test))"
   ]
  },
  {
   "cell_type": "code",
   "execution_count": 24,
   "metadata": {},
   "outputs": [
    {
     "data": {
      "text/plain": [
       "SVC(C=1, break_ties=False, cache_size=200, class_weight=None, coef0=0.0,\n",
       "    decision_function_shape='ovr', degree=3, gamma=0.001, kernel='sigmoid',\n",
       "    max_iter=-1, probability=True, random_state=None, shrinking=True, tol=0.001,\n",
       "    verbose=False)"
      ]
     },
     "execution_count": 24,
     "metadata": {},
     "output_type": "execute_result"
    }
   ],
   "source": [
    "svm = SVC(C= 1, gamma= 0.001, kernel= 'sigmoid', probability=True)\n",
    "svm.fit(standardized_X5, y5_train)"
   ]
  },
  {
   "cell_type": "code",
   "execution_count": 25,
   "metadata": {},
   "outputs": [
    {
     "name": "stdout",
     "output_type": "stream",
     "text": [
      "Area under ROC = 0.56\n"
     ]
    }
   ],
   "source": [
    "#Predict labels and probabilities of test set\n",
    "predictions = svm.predict(standardized_X_test)\n",
    "proba = svm.predict_proba(standardized_X_test)\n",
    "# Assess performance: ROC and AUC\n",
    "fpr, tpr, _ = metrics.roc_curve(y_test, proba[:,1])\n",
    "# Assess performance: ROC and AUC\n",
    "fpr, tpr, _ = metrics.roc_curve(y_test, proba[:,1])\n",
    "auc = metrics.auc(fpr, tpr)\n",
    "print('Area under ROC =', np.round(auc, 2))"
   ]
  },
  {
   "cell_type": "code",
   "execution_count": 26,
   "metadata": {},
   "outputs": [
    {
     "data": {
      "image/png": "[encoded data removed]",
      "text/plain": [
       "<Figure size 432x288 with 1 Axes>"
      ]
     },
     "metadata": {
      "needs_background": "light"
     },
     "output_type": "display_data"
    }
   ],
   "source": [
    "#Plot ROC\n",
    "plt.plot([0, 1], [0, 1], 'k--')\n",
    "plt.plot(fpr, tpr, label='SVM')\n",
    "plt.xlabel('False positive rate')\n",
    "plt.ylabel('True positive rate')\n",
    "plt.title('ROC curve')\n",
    "plt.legend(loc='best')\n",
    "plt.show()"
   ]
  },
  {
   "cell_type": "code",
   "execution_count": 27,
   "metadata": {},
   "outputs": [
    {
     "name": "stdout",
     "output_type": "stream",
     "text": [
      "SVM confusion matrix:  [[525384   2525]\n",
      " [ 42407   5540]]\n"
     ]
    },
    {
     "data": {
      "text/plain": [
       "<sklearn.metrics._plot.confusion_matrix.ConfusionMatrixDisplay at 0x29635a090b8>"
      ]
     },
     "execution_count": 27,
     "metadata": {},
     "output_type": "execute_result"
    },
    {
     "data": {
      "image/png": "[encoded data removed]",
      "text/plain": [
       "<Figure size 432x288 with 2 Axes>"
      ]
     },
     "metadata": {
      "needs_background": "light"
     },
     "output_type": "display_data"
    }
   ],
   "source": [
    "# Confusion matrix\n",
    "confusion_matrix = metrics.confusion_matrix(y_test, predictions)\n",
    "print('SVM confusion matrix: ', confusion_matrix)\n",
    "metrics.plot_confusion_matrix(svm, standardized_X_test, y_test)"
   ]
  },
  {
   "cell_type": "code",
   "execution_count": 28,
   "metadata": {},
   "outputs": [
    {
     "name": "stdout",
     "output_type": "stream",
     "text": [
      "Precision : 0.687\n",
      "Average Recall : 0.116\n",
      "Accuracy score:  0.922\n"
     ]
    }
   ],
   "source": [
    "# Print precision, recall and accuracy score\n",
    "print('Precision : {0:0.3f}'.format(metrics.precision_score(y_test, predictions)))\n",
    "print('Average Recall :', np.round(metrics.recall_score(y_test, predictions),3))\n",
    "print('Accuracy score: ',np.round(metrics.accuracy_score(y_test, predictions),3))"
   ]
  },
  {
   "cell_type": "code",
   "execution_count": 29,
   "metadata": {},
   "outputs": [
    {
     "data": {
      "image/png": "[encoded data removed]",
      "text/plain": [
       "<Figure size 432x288 with 1 Axes>"
      ]
     },
     "metadata": {
      "needs_background": "light"
     },
     "output_type": "display_data"
    }
   ],
   "source": [
    "# Plot precision recall curve\n",
    "precision, recall, thresholds = metrics.precision_recall_curve(y_test, proba[:,1])\n",
    "plt.step(recall, precision, color='b', alpha=0.2, where='post', label='SVM')\n",
    "plt.fill_between(recall, precision, step='post', alpha=0.2, color='b')\n",
    "plt.xlabel('Recall')\n",
    "plt.ylabel('Precision')\n",
    "plt.ylim([0.0, 1.05])\n",
    "plt.xlim([0.0, 1.0]) \n",
    "plt.show()"
   ]
  },
  {
   "cell_type": "markdown",
   "metadata": {},
   "source": [
    "This model perform worse than it's linear counterpart. Computation time is scarce so we will not spend more time on SVM."
   ]
  },
  {
   "cell_type": "markdown",
   "metadata": {},
   "source": [
    "### 4. Random Forest Classifier"
   ]
  },
  {
   "cell_type": "code",
   "execution_count": 30,
   "metadata": {},
   "outputs": [],
   "source": [
    "from sklearn.ensemble import RandomForestClassifier"
   ]
  },
  {
   "cell_type": "code",
   "execution_count": 31,
   "metadata": {},
   "outputs": [
    {
     "name": "stderr",
     "output_type": "stream",
     "text": [
      "[Parallel(n_jobs=-1)]: Using backend ThreadingBackend with 8 concurrent workers.\n",
      "[Parallel(n_jobs=-1)]: Done  34 tasks      | elapsed:   44.7s\n",
      "[Parallel(n_jobs=-1)]: Done 100 out of 100 | elapsed:  1.9min finished\n"
     ]
    },
    {
     "data": {
      "text/plain": [
       "RandomForestClassifier(bootstrap=True, ccp_alpha=0.0, class_weight=None,\n",
       "                       criterion='gini', max_depth=None, max_features='auto',\n",
       "                       max_leaf_nodes=None, max_samples=None,\n",
       "                       min_impurity_decrease=0.0, min_impurity_split=None,\n",
       "                       min_samples_leaf=1, min_samples_split=2,\n",
       "                       min_weight_fraction_leaf=0.0, n_estimators=100,\n",
       "                       n_jobs=-1, oob_score=False, random_state=None, verbose=1,\n",
       "                       warm_start=False)"
      ]
     },
     "execution_count": 31,
     "metadata": {},
     "output_type": "execute_result"
    }
   ],
   "source": [
    "# Create and fit the classifier\n",
    "rf = RandomForestClassifier(verbose = 1, n_jobs = -1)\n",
    "rf.fit(standardized_X, y_train)\n",
    "#takes xx min to train"
   ]
  },
  {
   "cell_type": "code",
   "execution_count": 32,
   "metadata": {},
   "outputs": [
    {
     "name": "stderr",
     "output_type": "stream",
     "text": [
      "[Parallel(n_jobs=8)]: Using backend ThreadingBackend with 8 concurrent workers.\n",
      "[Parallel(n_jobs=8)]: Done  34 tasks      | elapsed:    2.0s\n",
      "[Parallel(n_jobs=8)]: Done 100 out of 100 | elapsed:    5.2s finished\n",
      "[Parallel(n_jobs=8)]: Using backend ThreadingBackend with 8 concurrent workers.\n",
      "[Parallel(n_jobs=8)]: Done  34 tasks      | elapsed:    1.9s\n"
     ]
    },
    {
     "name": "stdout",
     "output_type": "stream",
     "text": [
      "Area under ROC = 0.69\n"
     ]
    },
    {
     "name": "stderr",
     "output_type": "stream",
     "text": [
      "[Parallel(n_jobs=8)]: Done 100 out of 100 | elapsed:    5.1s finished\n"
     ]
    }
   ],
   "source": [
    "# Prediction test labels\n",
    "predictions = rf.predict(standardized_X_test)\n",
    "proba = rf.predict_proba(standardized_X_test)\n",
    "# Assess performance: ROC and AUC\n",
    "fpr, tpr, _ = metrics.roc_curve(y_test, proba[:,1])\n",
    "# Assess performance: ROC and AUC\n",
    "fpr, tpr, _ = metrics.roc_curve(y_test, proba[:,1])\n",
    "auc = metrics.auc(fpr, tpr)\n",
    "print('Area under ROC =', np.round(auc, 2))\n"
   ]
  },
  {
   "cell_type": "code",
   "execution_count": 33,
   "metadata": {},
   "outputs": [
    {
     "name": "stdout",
     "output_type": "stream",
     "text": [
      "Area under ROC = 0.69\n"
     ]
    },
    {
     "data": {
      "image/png": "[encoded data removed]",
      "text/plain": [
       "<Figure size 432x288 with 1 Axes>"
      ]
     },
     "metadata": {
      "needs_background": "light"
     },
     "output_type": "display_data"
    }
   ],
   "source": [
    "#Plot ROC\n",
    "fpr, tpr, _ = metrics.roc_curve(y_test, proba[:,1])\n",
    "auc = metrics.auc(fpr, tpr)\n",
    "print('Area under ROC =', np.round(auc, 2))\n",
    "\n",
    "plt.plot([0, 1], [0, 1], 'k--')\n",
    "plt.plot(fpr, tpr, label='Random forest (not tuned)')\n",
    "plt.xlabel('False positive rate')\n",
    "plt.ylabel('True positive rate')\n",
    "plt.title('ROC curve')\n",
    "plt.legend(loc='best')\n",
    "plt.show()"
   ]
  },
  {
   "cell_type": "code",
   "execution_count": 35,
   "metadata": {},
   "outputs": [
    {
     "name": "stdout",
     "output_type": "stream",
     "text": [
      "RF confusion matrix:  [[526296   1613]\n",
      " [ 42435   5512]]\n"
     ]
    },
    {
     "name": "stderr",
     "output_type": "stream",
     "text": [
      "[Parallel(n_jobs=8)]: Using backend ThreadingBackend with 8 concurrent workers.\n",
      "[Parallel(n_jobs=8)]: Done  34 tasks      | elapsed:    2.0s\n",
      "[Parallel(n_jobs=8)]: Done 100 out of 100 | elapsed:    5.3s finished\n"
     ]
    },
    {
     "data": {
      "text/plain": [
       "<sklearn.metrics._plot.confusion_matrix.ConfusionMatrixDisplay at 0x2962da8e6d8>"
      ]
     },
     "execution_count": 35,
     "metadata": {},
     "output_type": "execute_result"
    },
    {
     "data": {
      "image/png": "[encoded data removed]",
      "text/plain": [
       "<Figure size 432x288 with 2 Axes>"
      ]
     },
     "metadata": {
      "needs_background": "light"
     },
     "output_type": "display_data"
    }
   ],
   "source": [
    "# Confusion matrix\n",
    "confusion_matrix = metrics.confusion_matrix(y_test, predictions)\n",
    "print('RF confusion matrix: ', confusion_matrix)\n",
    "metrics.plot_confusion_matrix(rf, standardized_X_test, y_test)"
   ]
  },
  {
   "cell_type": "code",
   "execution_count": 26,
   "metadata": {},
   "outputs": [
    {
     "name": "stdout",
     "output_type": "stream",
     "text": [
      "Precision : 0.774\n",
      "Recall : 0.115\n",
      "Accuracy :  0.924\n"
     ]
    }
   ],
   "source": [
    "# Print precision, recall and accuracy score\n",
    "print('Precision : {0:0.3f}'.format(metrics.precision_score(y_test, predictions)))\n",
    "print('Recall :', np.round(metrics.recall_score(y_test, predictions),3))\n",
    "print('Accuracy : ',np.round(metrics.accuracy_score(y_test, predictions),3))"
   ]
  },
  {
   "cell_type": "markdown",
   "metadata": {},
   "source": [
    "The random forest gives the best result so far. Let's tune the hyperparameters"
   ]
  },
  {
   "cell_type": "code",
   "execution_count": 27,
   "metadata": {},
   "outputs": [],
   "source": [
    "forest = RandomForestClassifier()"
   ]
  },
  {
   "cell_type": "code",
   "execution_count": 28,
   "metadata": {},
   "outputs": [],
   "source": [
    "n_estimators = [100, 500, 1200]\n",
    "max_depth = [5, 15, 30]\n",
    "min_samples_split = [2, 10, 100]\n",
    "min_samples_leaf = [1, 2, 5, 10] \n",
    "\n",
    "hyperF = dict(n_estimators = n_estimators, max_depth = max_depth,  \n",
    "              min_samples_split = min_samples_split, \n",
    "             min_samples_leaf = min_samples_leaf)\n",
    "\n",
    "gridF = GridSearchCV(forest, hyperF, cv = 3, verbose = 1, \n",
    "                      n_jobs = -1)"
   ]
  },
  {
   "cell_type": "code",
   "execution_count": 29,
   "metadata": {
    "scrolled": true
   },
   "outputs": [
    {
     "name": "stdout",
     "output_type": "stream",
     "text": [
      "Fitting 3 folds for each of 108 candidates, totalling 324 fits\n"
     ]
    },
    {
     "name": "stderr",
     "output_type": "stream",
     "text": [
      "[Parallel(n_jobs=-1)]: Using backend LokyBackend with 8 concurrent workers.\n",
      "[Parallel(n_jobs=-1)]: Done  34 tasks      | elapsed: 67.6min\n",
      "[Parallel(n_jobs=-1)]: Done 184 tasks      | elapsed: 589.6min\n",
      "[Parallel(n_jobs=-1)]: Done 324 out of 324 | elapsed: 1462.9min finished\n"
     ]
    },
    {
     "data": {
      "text/plain": [
       "{'max_depth': 30,\n",
       " 'min_samples_leaf': 1,\n",
       " 'min_samples_split': 2,\n",
       " 'n_estimators': 1200}"
      ]
     },
     "execution_count": 29,
     "metadata": {},
     "output_type": "execute_result"
    }
   ],
   "source": [
    "gridF.fit(standardized_X, y_train)\n",
    "gridF.best_params_"
   ]
  },
  {
   "cell_type": "code",
   "execution_count": 31,
   "metadata": {},
   "outputs": [],
   "source": [
    "forest_params= gridF.best_params_"
   ]
  },
  {
   "cell_type": "code",
   "execution_count": 36,
   "metadata": {},
   "outputs": [
    {
     "name": "stderr",
     "output_type": "stream",
     "text": [
      "[Parallel(n_jobs=-1)]: Using backend ThreadingBackend with 8 concurrent workers.\n",
      "[Parallel(n_jobs=-1)]: Done  34 tasks      | elapsed:   40.6s\n",
      "[Parallel(n_jobs=-1)]: Done 184 tasks      | elapsed:  3.2min\n",
      "[Parallel(n_jobs=-1)]: Done 434 tasks      | elapsed:  7.5min\n",
      "[Parallel(n_jobs=-1)]: Done 784 tasks      | elapsed: 13.5min\n",
      "[Parallel(n_jobs=-1)]: Done 1200 out of 1200 | elapsed: 20.6min finished\n"
     ]
    },
    {
     "data": {
      "text/plain": [
       "RandomForestClassifier(bootstrap=True, ccp_alpha=0.0, class_weight=None,\n",
       "                       criterion='gini', max_depth=30, max_features='auto',\n",
       "                       max_leaf_nodes=None, max_samples=None,\n",
       "                       min_impurity_decrease=0.0, min_impurity_split=None,\n",
       "                       min_samples_leaf=1, min_samples_split=2,\n",
       "                       min_weight_fraction_leaf=0.0, n_estimators=1200,\n",
       "                       n_jobs=-1, oob_score=False, random_state=None, verbose=1,\n",
       "                       warm_start=False)"
      ]
     },
     "execution_count": 36,
     "metadata": {},
     "output_type": "execute_result"
    }
   ],
   "source": [
    "forest = RandomForestClassifier(max_depth= 30, min_samples_leaf= 1, min_samples_split= 2, \n",
    "           n_estimators = 1200, verbose = 1, n_jobs = -1)\n",
    "forest.fit(standardized_X, y_train)"
   ]
  },
  {
   "cell_type": "code",
   "execution_count": 37,
   "metadata": {
    "scrolled": true
   },
   "outputs": [
    {
     "name": "stderr",
     "output_type": "stream",
     "text": [
      "[Parallel(n_jobs=8)]: Using backend ThreadingBackend with 8 concurrent workers.\n",
      "[Parallel(n_jobs=8)]: Done  34 tasks      | elapsed:    1.1s\n",
      "[Parallel(n_jobs=8)]: Done 184 tasks      | elapsed:    5.8s\n",
      "[Parallel(n_jobs=8)]: Done 434 tasks      | elapsed:   13.8s\n",
      "[Parallel(n_jobs=8)]: Done 784 tasks      | elapsed:   24.8s\n",
      "[Parallel(n_jobs=8)]: Done 1200 out of 1200 | elapsed:   37.9s finished\n",
      "[Parallel(n_jobs=8)]: Using backend ThreadingBackend with 8 concurrent workers.\n",
      "[Parallel(n_jobs=8)]: Done  34 tasks      | elapsed:    1.1s\n",
      "[Parallel(n_jobs=8)]: Done 184 tasks      | elapsed:    5.7s\n",
      "[Parallel(n_jobs=8)]: Done 434 tasks      | elapsed:   13.7s\n",
      "[Parallel(n_jobs=8)]: Done 784 tasks      | elapsed:   24.8s\n",
      "[Parallel(n_jobs=8)]: Done 1200 out of 1200 | elapsed:   37.9s finished\n"
     ]
    },
    {
     "name": "stdout",
     "output_type": "stream",
     "text": [
      "Area under ROC = 0.72\n"
     ]
    }
   ],
   "source": [
    "# Prediction test labels\n",
    "predictions = forest.predict(standardized_X_test)\n",
    "proba = forest.predict_proba(standardized_X_test)\n",
    "# Assess performance: ROC and AUC\n",
    "fpr, tpr, _ = metrics.roc_curve(y_test, proba[:,1])\n",
    "# Assess performance: ROC and AUC\n",
    "fpr, tpr, _ = metrics.roc_curve(y_test, proba[:,1])\n",
    "auc = metrics.auc(fpr, tpr)\n",
    "print('Area under ROC =', np.round(auc, 2))"
   ]
  },
  {
   "cell_type": "code",
   "execution_count": 38,
   "metadata": {},
   "outputs": [
    {
     "data": {
      "image/png": "[encoded data removed]",
      "text/plain": [
       "<Figure size 432x288 with 1 Axes>"
      ]
     },
     "metadata": {
      "needs_background": "light"
     },
     "output_type": "display_data"
    }
   ],
   "source": [
    "#Plot ROC\n",
    "plt.plot([0, 1], [0, 1], 'k--')\n",
    "plt.plot(fpr, tpr, label='Random forest (tuned)')\n",
    "plt.xlabel('False positive rate')\n",
    "plt.ylabel('True positive rate')\n",
    "plt.title('ROC curve')\n",
    "plt.legend(loc='best')\n",
    "plt.show()"
   ]
  },
  {
   "cell_type": "code",
   "execution_count": 63,
   "metadata": {},
   "outputs": [
    {
     "name": "stdout",
     "output_type": "stream",
     "text": [
      "RF confusion matrix:  [[526320   1589]\n",
      " [ 42409   5538]]\n"
     ]
    },
    {
     "name": "stderr",
     "output_type": "stream",
     "text": [
      "[Parallel(n_jobs=8)]: Using backend ThreadingBackend with 8 concurrent workers.\n",
      "[Parallel(n_jobs=8)]: Done  34 tasks      | elapsed:    2.2s\n",
      "[Parallel(n_jobs=8)]: Done 100 out of 100 | elapsed:    6.4s finished\n"
     ]
    },
    {
     "data": {
      "text/plain": [
       "<sklearn.metrics._plot.confusion_matrix.ConfusionMatrixDisplay at 0x20dbaa46b88>"
      ]
     },
     "execution_count": 63,
     "metadata": {},
     "output_type": "execute_result"
    },
    {
     "data": {
      "image/png": "[encoded data removed]",
      "text/plain": [
       "<Figure size 432x288 with 2 Axes>"
      ]
     },
     "metadata": {
      "needs_background": "light"
     },
     "output_type": "display_data"
    }
   ],
   "source": [
    "# Confusion matrix\n",
    "confusion_matrix = metrics.confusion_matrix(y_test, predictions)\n",
    "print('RF confusion matrix: ', confusion_matrix)\n",
    "metrics.plot_confusion_matrix(rf, standardized_X_test, y_test)"
   ]
  },
  {
   "cell_type": "code",
   "execution_count": 64,
   "metadata": {},
   "outputs": [
    {
     "name": "stdout",
     "output_type": "stream",
     "text": [
      "Precision : 0.777\n",
      "Recall : 0.116\n",
      "Accuracy :  0.924\n"
     ]
    }
   ],
   "source": [
    "# Print precision, recall and accuracy score\n",
    "print('Precision : {0:0.3f}'.format(metrics.precision_score(y_test, predictions)))\n",
    "print('Recall :', np.round(metrics.recall_score(y_test, predictions),3))\n",
    "print('Accuracy : ',np.round(metrics.accuracy_score(y_test, predictions),3))"
   ]
  },
  {
   "cell_type": "markdown",
   "metadata": {},
   "source": [
    "The improvement from optimization is barely noticeable!\n",
    "\n",
    "We will select the features by importance to optimize again and hopefully improve the model:"
   ]
  },
  {
   "cell_type": "code",
   "execution_count": 41,
   "metadata": {},
   "outputs": [
    {
     "name": "stdout",
     "output_type": "stream",
     "text": [
      "Variable: plural_birth         Importance: 0.1224\n",
      "Variable: prepregnancy_weight  Importance: 0.1066\n",
      "Variable: mother_age           Importance: 0.0847\n",
      "Variable: mother_height        Importance: 0.0709\n",
      "Variable: month_prenatal_care_began Importance: 0.0575\n",
      "Variable: total_birth_order    Importance: 0.0443\n",
      "Variable: previous_preterm_birth-Y Importance: 0.0217\n",
      "Variable: no_risk_factors-1    Importance: 0.0203\n",
      "Variable: sex-M                Importance: 0.0167\n",
      "Variable: WIC-Y                Importance: 0.0157\n",
      "Variable: payment-2            Importance: 0.0126\n",
      "Variable: mother_education-3   Importance: 0.0122\n",
      "Variable: mother_education-4   Importance: 0.0115\n",
      "Variable: mother_nativity-2    Importance: 0.0109\n",
      "Variable: birth_month-7        Importance: 0.0096\n",
      "Variable: birth_month-8        Importance: 0.0095\n",
      "Variable: birth_month-10       Importance: 0.0093\n",
      "Variable: birth_month-12       Importance: 0.0093\n",
      "Variable: birth_month-5        Importance: 0.0093\n",
      "Variable: father_education-3   Importance: 0.0093\n",
      "Variable: birth_month-11       Importance: 0.0092\n",
      "Variable: birth_month-6        Importance: 0.0092\n",
      "Variable: birth_month-9        Importance: 0.0092\n",
      "Variable: birth_month-3        Importance: 0.009\n",
      "Variable: birth_month-2        Importance: 0.0088\n",
      "Variable: birth_month-4        Importance: 0.0088\n",
      "Variable: mother_hispanic-1    Importance: 0.0088\n",
      "Variable: mother_education-2   Importance: 0.0088\n",
      "Variable: mother_race-2        Importance: 0.0086\n",
      "Variable: previous_cesareans   Importance: 0.0085\n",
      "Variable: paternity_acknowledged-X Importance: 0.0085\n",
      "Variable: father_education-4   Importance: 0.0083\n",
      "Variable: interval-3           Importance: 0.0083\n",
      "Variable: paternity_acknowledged-Y Importance: 0.0081\n",
      "Variable: interval-4           Importance: 0.0079\n",
      "Variable: tobacco-Y            Importance: 0.0077\n",
      "Variable: interval-6           Importance: 0.0075\n",
      "Variable: mother_education-5   Importance: 0.0074\n",
      "Variable: interval-5           Importance: 0.0073\n",
      "Variable: father_hispanic-1    Importance: 0.007\n",
      "Variable: interval-7           Importance: 0.007\n",
      "Variable: mother_education-6   Importance: 0.0069\n",
      "Variable: father_education-2   Importance: 0.0066\n",
      "Variable: father_race-9        Importance: 0.0065\n",
      "Variable: payment-3            Importance: 0.0065\n",
      "Variable: no_infection-1       Importance: 0.0064\n",
      "Variable: payment-4            Importance: 0.0064\n",
      "Variable: interval-2           Importance: 0.0063\n",
      "Variable: father_race-2        Importance: 0.0061\n",
      "Variable: interval-8           Importance: 0.006\n",
      "Variable: father_education-6   Importance: 0.0054\n",
      "Variable: interval-9           Importance: 0.0054\n",
      "Variable: father_education-5   Importance: 0.0051\n",
      "Variable: mother_race-6        Importance: 0.005\n",
      "Variable: mother_hispanic-6    Importance: 0.005\n",
      "Variable: mother_race-4        Importance: 0.0049\n",
      "Variable: father_education-9   Importance: 0.0049\n",
      "Variable: father_hispanic-9    Importance: 0.0046\n",
      "Variable: mother_hispanic-4    Importance: 0.0045\n",
      "Variable: mother_education-7   Importance: 0.0044\n",
      "Variable: mother_hispanic-2    Importance: 0.0042\n",
      "Variable: father_hispanic-6    Importance: 0.0039\n",
      "Variable: father_hispanic-4    Importance: 0.0037\n",
      "Variable: father_race-4        Importance: 0.0036\n",
      "Variable: father_race-6        Importance: 0.0036\n",
      "Variable: father_education-7   Importance: 0.0032\n",
      "Variable: father_hispanic-2    Importance: 0.003\n",
      "Variable: mother_race-3        Importance: 0.0027\n",
      "Variable: infertility_treatment-Y Importance: 0.0027\n",
      "Variable: birth_place-4        Importance: 0.0024\n",
      "Variable: mother_education-8   Importance: 0.0022\n",
      "Variable: mother_hispanic-5    Importance: 0.0019\n",
      "Variable: father_education-8   Importance: 0.0019\n",
      "Variable: birth_place-3        Importance: 0.0017\n",
      "Variable: interval-1           Importance: 0.0017\n",
      "Variable: mother_hispanic-3    Importance: 0.0015\n",
      "Variable: father_race-3        Importance: 0.0015\n",
      "Variable: mother_nativity-3    Importance: 0.0014\n",
      "Variable: father_hispanic-5    Importance: 0.0014\n",
      "Variable: birth_place-7        Importance: 0.0013\n",
      "Variable: mother_race-5        Importance: 0.0013\n",
      "Variable: father_hispanic-3    Importance: 0.0012\n",
      "Variable: birth_place-2        Importance: 0.0008\n",
      "Variable: father_race-5        Importance: 0.0008\n",
      "Variable: birth_place-5        Importance: 0.0006\n",
      "Variable: interval-0           Importance: 0.0006\n",
      "Variable: birth_place-6        Importance: 0.0002\n"
     ]
    },
    {
     "data": {
      "text/plain": [
       "[None,\n",
       " None,\n",
       " None,\n",
       " None,\n",
       " None,\n",
       " None,\n",
       " None,\n",
       " None,\n",
       " None,\n",
       " None,\n",
       " None,\n",
       " None,\n",
       " None,\n",
       " None,\n",
       " None,\n",
       " None,\n",
       " None,\n",
       " None,\n",
       " None,\n",
       " None,\n",
       " None,\n",
       " None,\n",
       " None,\n",
       " None,\n",
       " None,\n",
       " None,\n",
       " None,\n",
       " None,\n",
       " None,\n",
       " None,\n",
       " None,\n",
       " None,\n",
       " None,\n",
       " None,\n",
       " None,\n",
       " None,\n",
       " None,\n",
       " None,\n",
       " None,\n",
       " None,\n",
       " None,\n",
       " None,\n",
       " None,\n",
       " None,\n",
       " None,\n",
       " None,\n",
       " None,\n",
       " None,\n",
       " None,\n",
       " None,\n",
       " None,\n",
       " None,\n",
       " None,\n",
       " None,\n",
       " None,\n",
       " None,\n",
       " None,\n",
       " None,\n",
       " None,\n",
       " None,\n",
       " None,\n",
       " None,\n",
       " None,\n",
       " None,\n",
       " None,\n",
       " None,\n",
       " None,\n",
       " None,\n",
       " None,\n",
       " None,\n",
       " None,\n",
       " None,\n",
       " None,\n",
       " None,\n",
       " None,\n",
       " None,\n",
       " None,\n",
       " None,\n",
       " None,\n",
       " None,\n",
       " None,\n",
       " None,\n",
       " None,\n",
       " None,\n",
       " None,\n",
       " None,\n",
       " None]"
      ]
     },
     "execution_count": 41,
     "metadata": {},
     "output_type": "execute_result"
    }
   ],
   "source": [
    "# List of features for later use\n",
    "feature_list = list(X.columns)\n",
    "# Get numerical feature importances\n",
    "importances = list(forest.feature_importances_)\n",
    "# List of tuples with variable and importance\n",
    "feature_importances = [(feature, round(importance, 4)) for feature, importance in zip(feature_list, importances)]\n",
    "# Sort the feature importances by most important first\n",
    "feature_importances = sorted(feature_importances, key = lambda x: x[1], reverse = True)\n",
    "# Print out the feature and importances \n",
    "[print('Variable: {:20} Importance: {}'.format(*pair)) for pair in feature_importances]"
   ]
  },
  {
   "cell_type": "code",
   "execution_count": 42,
   "metadata": {},
   "outputs": [
    {
     "data": {
      "image/png": "[encoded data removed]",
      "text/plain": [
       "<Figure size 432x288 with 1 Axes>"
      ]
     },
     "metadata": {
      "needs_background": "light"
     },
     "output_type": "display_data"
    }
   ],
   "source": [
    "# list of x locations for plotting\n",
    "x_values = list(range(len(importances)))\n",
    "# Make a bar chart\n",
    "plt.bar(x_values, importances, orientation = 'vertical', color = 'r', edgecolor = 'k', linewidth = 1.2)\n",
    "# Tick labels for x axis\n",
    "plt.xticks(x_values, feature_list, rotation='vertical')\n",
    "# Axis labels and title\n",
    "plt.ylabel('Importance'); plt.xlabel('Variable'); plt.title('Variable Importances');"
   ]
  },
  {
   "cell_type": "code",
   "execution_count": 43,
   "metadata": {},
   "outputs": [
    {
     "data": {
      "image/png": "[encoded data removed]",
      "text/plain": [
       "<Figure size 432x288 with 1 Axes>"
      ]
     },
     "metadata": {
      "needs_background": "light"
     },
     "output_type": "display_data"
    }
   ],
   "source": [
    "# List of features sorted from most to least important\n",
    "sorted_importances = [importance[1] for importance in feature_importances]\n",
    "sorted_features = [importance[0] for importance in feature_importances]\n",
    "# Cumulative importances\n",
    "cumulative_importances = np.cumsum(sorted_importances)\n",
    "# Make a line graph\n",
    "plt.plot(x_values, cumulative_importances, 'g-')\n",
    "# Draw line at 95% of importance retained\n",
    "plt.hlines(y = 0.95, xmin=0, xmax=len(sorted_importances), color = 'r', linestyles = 'dashed')\n",
    "# Format x ticks and labels\n",
    "plt.xticks(x_values, sorted_features, rotation = 'vertical')\n",
    "# Axis labels and title\n",
    "plt.xlabel('Variable'); plt.ylabel('Cumulative Importance'); plt.title('Cumulative Importances');"
   ]
  },
  {
   "cell_type": "code",
   "execution_count": 44,
   "metadata": {},
   "outputs": [
    {
     "name": "stdout",
     "output_type": "stream",
     "text": [
      "Number of features for 95% importance: 62\n"
     ]
    }
   ],
   "source": [
    "# Find number of features for cumulative importance of 95%\n",
    "# Add 1 because Python is zero-indexed\n",
    "features95 = np.where(cumulative_importances > 0.95)[0][0] + 1\n",
    "print('Number of features for 95% importance:', features95)"
   ]
  },
  {
   "cell_type": "code",
   "execution_count": 45,
   "metadata": {},
   "outputs": [
    {
     "name": "stdout",
     "output_type": "stream",
     "text": [
      "Important train features shape: (1343662, 62)\n",
      "Important test features shape: (575856, 62)\n"
     ]
    }
   ],
   "source": [
    "# Extract the names of the most important features\n",
    "important_feature_names = [feature[0] for feature in feature_importances[0:features95]]\n",
    "# Find the columns of the most important features\n",
    "important_indices = [feature_list.index(feature) for feature in important_feature_names]\n",
    "# Create training and testing sets with only the important features\n",
    "important_X_train = standardized_X[:,important_indices]\n",
    "important_X_test = standardized_X_test[:,important_indices]\n",
    "# Sanity check on operations\n",
    "print('Important train features shape:', important_X_train.shape)\n",
    "print('Important test features shape:', important_X_test.shape)"
   ]
  },
  {
   "cell_type": "code",
   "execution_count": 46,
   "metadata": {},
   "outputs": [
    {
     "name": "stderr",
     "output_type": "stream",
     "text": [
      "[Parallel(n_jobs=-1)]: Using backend ThreadingBackend with 8 concurrent workers.\n",
      "[Parallel(n_jobs=-1)]: Done  34 tasks      | elapsed:   33.4s\n",
      "[Parallel(n_jobs=-1)]: Done 184 tasks      | elapsed:  2.6min\n",
      "[Parallel(n_jobs=-1)]: Done 434 tasks      | elapsed:  6.1min\n",
      "[Parallel(n_jobs=-1)]: Done 784 tasks      | elapsed: 11.0min\n",
      "[Parallel(n_jobs=-1)]: Done 1200 out of 1200 | elapsed: 16.8min finished\n"
     ]
    },
    {
     "data": {
      "text/plain": [
       "RandomForestClassifier(bootstrap=True, ccp_alpha=0.0, class_weight=None,\n",
       "                       criterion='gini', max_depth=30, max_features='auto',\n",
       "                       max_leaf_nodes=None, max_samples=None,\n",
       "                       min_impurity_decrease=0.0, min_impurity_split=None,\n",
       "                       min_samples_leaf=1, min_samples_split=2,\n",
       "                       min_weight_fraction_leaf=0.0, n_estimators=1200,\n",
       "                       n_jobs=-1, oob_score=False, random_state=None, verbose=1,\n",
       "                       warm_start=False)"
      ]
     },
     "execution_count": 46,
     "metadata": {},
     "output_type": "execute_result"
    }
   ],
   "source": [
    "# Create and train the expanded model on only the important features\n",
    "forest2 = RandomForestClassifier(max_depth= 30, min_samples_leaf= 1, min_samples_split= 2, \n",
    "                                 n_estimators = 1200, verbose = 1, n_jobs = -1)\n",
    "forest2.fit(important_X_train, y_train)"
   ]
  },
  {
   "cell_type": "code",
   "execution_count": 47,
   "metadata": {},
   "outputs": [
    {
     "name": "stderr",
     "output_type": "stream",
     "text": [
      "[Parallel(n_jobs=8)]: Using backend ThreadingBackend with 8 concurrent workers.\n",
      "[Parallel(n_jobs=8)]: Done  34 tasks      | elapsed:    1.2s\n",
      "[Parallel(n_jobs=8)]: Done 184 tasks      | elapsed:    6.4s\n",
      "[Parallel(n_jobs=8)]: Done 434 tasks      | elapsed:   15.1s\n",
      "[Parallel(n_jobs=8)]: Done 784 tasks      | elapsed:   27.2s\n",
      "[Parallel(n_jobs=8)]: Done 1200 out of 1200 | elapsed:   41.4s finished\n",
      "[Parallel(n_jobs=8)]: Using backend ThreadingBackend with 8 concurrent workers.\n",
      "[Parallel(n_jobs=8)]: Done  34 tasks      | elapsed:    1.2s\n",
      "[Parallel(n_jobs=8)]: Done 184 tasks      | elapsed:    6.3s\n",
      "[Parallel(n_jobs=8)]: Done 434 tasks      | elapsed:   14.9s\n",
      "[Parallel(n_jobs=8)]: Done 784 tasks      | elapsed:   27.0s\n",
      "[Parallel(n_jobs=8)]: Done 1200 out of 1200 | elapsed:   41.3s finished\n"
     ]
    },
    {
     "name": "stdout",
     "output_type": "stream",
     "text": [
      "Area under ROC = 0.71\n"
     ]
    }
   ],
   "source": [
    "# Prediction test labels\n",
    "predictions = forest2.predict(important_X_test)\n",
    "proba = forest2.predict_proba(important_X_test)\n",
    "# Assess performance: ROC and AUC\n",
    "fpr, tpr, _ = metrics.roc_curve(y_test, proba[:,1])\n",
    "# Assess performance: ROC and AUC\n",
    "fpr, tpr, _ = metrics.roc_curve(y_test, proba[:,1])\n",
    "auc = metrics.auc(fpr, tpr)\n",
    "print('Area under ROC =', np.round(auc, 2))"
   ]
  },
  {
   "cell_type": "code",
   "execution_count": 48,
   "metadata": {},
   "outputs": [
    {
     "name": "stdout",
     "output_type": "stream",
     "text": [
      "Area under ROC = 0.71\n"
     ]
    },
    {
     "data": {
      "image/png": "[encoded data removed]",
      "text/plain": [
       "<Figure size 432x288 with 1 Axes>"
      ]
     },
     "metadata": {
      "needs_background": "light"
     },
     "output_type": "display_data"
    }
   ],
   "source": [
    "#Plot ROC\n",
    "fpr, tpr, _ = metrics.roc_curve(y_test, proba[:,1])\n",
    "auc = metrics.auc(fpr, tpr)\n",
    "print('Area under ROC =', np.round(auc, 2))\n",
    "\n",
    "plt.plot([0, 1], [0, 1], 'k--')\n",
    "plt.plot(fpr, tpr, label='Random forest (tuned, features cumulating to 95% of importance)')\n",
    "plt.xlabel('False positive rate')\n",
    "plt.ylabel('True positive rate')\n",
    "plt.title('ROC curve')\n",
    "plt.legend(loc='best')\n",
    "plt.show()"
   ]
  },
  {
   "cell_type": "code",
   "execution_count": 49,
   "metadata": {},
   "outputs": [
    {
     "name": "stdout",
     "output_type": "stream",
     "text": [
      "Precision : 0.779\n",
      "Recall : 0.115\n",
      "Accuracy :  0.924\n"
     ]
    }
   ],
   "source": [
    "# Print precision, recall and accuracy score\n",
    "print('Precision : {0:0.3f}'.format(metrics.precision_score(y_test, predictions)))\n",
    "print('Recall :', np.round(metrics.recall_score(y_test, predictions),3))\n",
    "print('Accuracy : ',np.round(metrics.accuracy_score(y_test, predictions),3))"
   ]
  },
  {
   "cell_type": "markdown",
   "metadata": {},
   "source": [
    "The difference is very small, we mihgt be able to eliminate even more features useless in predicting the term of birth. Let's try features combined to reach 80% of importance."
   ]
  },
  {
   "cell_type": "code",
   "execution_count": 50,
   "metadata": {},
   "outputs": [
    {
     "name": "stdout",
     "output_type": "stream",
     "text": [
      "Number of features for 80% importance: 36\n"
     ]
    }
   ],
   "source": [
    "# Find number of features for cumulative importance of 80%\n",
    "# Add 1 because Python is zero-indexed\n",
    "features80 = np.where(cumulative_importances > 0.8)[0][0] + 1\n",
    "print('Number of features for 80% importance:', features80)"
   ]
  },
  {
   "cell_type": "code",
   "execution_count": 51,
   "metadata": {},
   "outputs": [
    {
     "name": "stdout",
     "output_type": "stream",
     "text": [
      "80% important train features shape: (1343662, 36)\n",
      "80% important test features shape: (575856, 36)\n"
     ]
    }
   ],
   "source": [
    "# Extract the names of the most important features\n",
    "important_feature_names = [feature[0] for feature in feature_importances[0:features80]]\n",
    "# Find the columns of the most important features\n",
    "important_indices = [feature_list.index(feature) for feature in important_feature_names]\n",
    "# Create training and testing sets with only the important features\n",
    "important80_X_train = standardized_X[:,important_indices]\n",
    "important80_X_test = standardized_X_test[:,important_indices]\n",
    "# Sanity check on operations\n",
    "print('80% important train features shape:', important80_X_train.shape)\n",
    "print('80% important test features shape:', important80_X_test.shape)"
   ]
  },
  {
   "cell_type": "code",
   "execution_count": 52,
   "metadata": {},
   "outputs": [
    {
     "name": "stderr",
     "output_type": "stream",
     "text": [
      "[Parallel(n_jobs=-1)]: Using backend ThreadingBackend with 8 concurrent workers.\n",
      "[Parallel(n_jobs=-1)]: Done  34 tasks      | elapsed:   29.6s\n",
      "[Parallel(n_jobs=-1)]: Done 184 tasks      | elapsed:  2.3min\n",
      "[Parallel(n_jobs=-1)]: Done 434 tasks      | elapsed:  5.4min\n",
      "[Parallel(n_jobs=-1)]: Done 784 tasks      | elapsed:  9.8min\n",
      "[Parallel(n_jobs=-1)]: Done 1200 out of 1200 | elapsed: 14.9min finished\n"
     ]
    },
    {
     "data": {
      "text/plain": [
       "RandomForestClassifier(bootstrap=True, ccp_alpha=0.0, class_weight=None,\n",
       "                       criterion='gini', max_depth=30, max_features='auto',\n",
       "                       max_leaf_nodes=None, max_samples=None,\n",
       "                       min_impurity_decrease=0.0, min_impurity_split=None,\n",
       "                       min_samples_leaf=1, min_samples_split=2,\n",
       "                       min_weight_fraction_leaf=0.0, n_estimators=1200,\n",
       "                       n_jobs=-1, oob_score=False, random_state=None, verbose=1,\n",
       "                       warm_start=False)"
      ]
     },
     "execution_count": 52,
     "metadata": {},
     "output_type": "execute_result"
    }
   ],
   "source": [
    "# Create and train the expanded model on only the important features\n",
    "forest3 = RandomForestClassifier(max_depth= 30, min_samples_leaf= 1, min_samples_split= 2, \n",
    "                                 n_estimators = 1200, verbose = 1, n_jobs = -1)\n",
    "forest3.fit(important80_X_train, y_train)"
   ]
  },
  {
   "cell_type": "code",
   "execution_count": 54,
   "metadata": {},
   "outputs": [
    {
     "name": "stderr",
     "output_type": "stream",
     "text": [
      "[Parallel(n_jobs=8)]: Using backend ThreadingBackend with 8 concurrent workers.\n",
      "[Parallel(n_jobs=8)]: Done  34 tasks      | elapsed:    1.3s\n",
      "[Parallel(n_jobs=8)]: Done 184 tasks      | elapsed:    6.9s\n",
      "[Parallel(n_jobs=8)]: Done 434 tasks      | elapsed:   16.2s\n",
      "[Parallel(n_jobs=8)]: Done 784 tasks      | elapsed:   28.9s\n",
      "[Parallel(n_jobs=8)]: Done 1200 out of 1200 | elapsed:   44.4s finished\n",
      "[Parallel(n_jobs=8)]: Using backend ThreadingBackend with 8 concurrent workers.\n",
      "[Parallel(n_jobs=8)]: Done  34 tasks      | elapsed:    1.4s\n",
      "[Parallel(n_jobs=8)]: Done 184 tasks      | elapsed:    6.9s\n",
      "[Parallel(n_jobs=8)]: Done 434 tasks      | elapsed:   16.1s\n",
      "[Parallel(n_jobs=8)]: Done 784 tasks      | elapsed:   28.7s\n",
      "[Parallel(n_jobs=8)]: Done 1200 out of 1200 | elapsed:   43.7s finished\n"
     ]
    },
    {
     "name": "stdout",
     "output_type": "stream",
     "text": [
      "Area under ROC = 0.7\n"
     ]
    }
   ],
   "source": [
    "# Prediction test labels\n",
    "predictions = forest3.predict(important80_X_test)\n",
    "proba = forest3.predict_proba(important80_X_test)\n",
    "# Assess performance: ROC and AUC\n",
    "fpr, tpr, _ = metrics.roc_curve(y_test, proba[:,1])\n",
    "# Assess performance: ROC and AUC\n",
    "fpr, tpr, _ = metrics.roc_curve(y_test, proba[:,1])\n",
    "auc = metrics.auc(fpr, tpr)\n",
    "print('Area under ROC =', np.round(auc, 2))"
   ]
  },
  {
   "cell_type": "code",
   "execution_count": 55,
   "metadata": {},
   "outputs": [
    {
     "name": "stdout",
     "output_type": "stream",
     "text": [
      "Area under ROC = 0.7\n"
     ]
    },
    {
     "data": {
      "image/png": "[encoded data removed]",
      "text/plain": [
       "<Figure size 432x288 with 1 Axes>"
      ]
     },
     "metadata": {
      "needs_background": "light"
     },
     "output_type": "display_data"
    }
   ],
   "source": [
    "#Plot ROC\n",
    "fpr, tpr, _ = metrics.roc_curve(y_test, proba[:,1])\n",
    "auc = metrics.auc(fpr, tpr)\n",
    "print('Area under ROC =', np.round(auc, 2))\n",
    "\n",
    "plt.plot([0, 1], [0, 1], 'k--')\n",
    "plt.plot(fpr, tpr, label='Random forest (tuned, features cumulating to 80% of importance)')\n",
    "plt.xlabel('False positive rate')\n",
    "plt.ylabel('True positive rate')\n",
    "plt.title('ROC curve')\n",
    "plt.legend(loc='best')\n",
    "plt.show()"
   ]
  },
  {
   "cell_type": "code",
   "execution_count": 56,
   "metadata": {},
   "outputs": [
    {
     "name": "stdout",
     "output_type": "stream",
     "text": [
      "Precision : 0.773\n",
      "Recall : 0.115\n",
      "Accuracy :  0.924\n"
     ]
    }
   ],
   "source": [
    "# Print precision, recall and accuracy score\n",
    "print('Precision : {0:0.3f}'.format(metrics.precision_score(y_test, predictions)))\n",
    "print('Recall :', np.round(metrics.recall_score(y_test, predictions),3))\n",
    "print('Accuracy : ',np.round(metrics.accuracy_score(y_test, predictions),3))"
   ]
  },
  {
   "cell_type": "markdown",
   "metadata": {},
   "source": [
    "There is still no loss of performance. Let's see if we can remove even more features:"
   ]
  },
  {
   "cell_type": "code",
   "execution_count": 57,
   "metadata": {},
   "outputs": [
    {
     "name": "stdout",
     "output_type": "stream",
     "text": [
      "Number of features for 70% importance: 24\n"
     ]
    }
   ],
   "source": [
    "# Find number of features for cumulative importance of 70%\n",
    "# Add 1 because Python is zero-indexed\n",
    "# Erase features80 because needs too much RAM otherwise\n",
    "features80 = np.where(cumulative_importances > 0.7)[0][0] + 1\n",
    "print('Number of features for 70% importance:', features80)"
   ]
  },
  {
   "cell_type": "code",
   "execution_count": 58,
   "metadata": {},
   "outputs": [
    {
     "name": "stdout",
     "output_type": "stream",
     "text": [
      "70% important train features shape: (1343662, 24)\n",
      "70% important test features shape: (575856, 24)\n"
     ]
    }
   ],
   "source": [
    "# Extract the names of the most important features\n",
    "important_feature_names = [feature[0] for feature in feature_importances[0:features80]]\n",
    "# Find the columns of the most important features\n",
    "important_indices = [feature_list.index(feature) for feature in important_feature_names]\n",
    "# Create training and testing sets with only the important features\n",
    "important80_X_train = standardized_X[:,important_indices]\n",
    "important80_X_test = standardized_X_test[:,important_indices]\n",
    "# Sanity check on operations\n",
    "print('70% important train features shape:', important80_X_train.shape)\n",
    "print('70% important test features shape:', important80_X_test.shape)"
   ]
  },
  {
   "cell_type": "code",
   "execution_count": 59,
   "metadata": {},
   "outputs": [
    {
     "name": "stderr",
     "output_type": "stream",
     "text": [
      "[Parallel(n_jobs=-1)]: Using backend ThreadingBackend with 8 concurrent workers.\n",
      "[Parallel(n_jobs=-1)]: Done  34 tasks      | elapsed:   23.4s\n",
      "[Parallel(n_jobs=-1)]: Done 184 tasks      | elapsed:  1.9min\n",
      "[Parallel(n_jobs=-1)]: Done 434 tasks      | elapsed:  4.4min\n",
      "[Parallel(n_jobs=-1)]: Done 784 tasks      | elapsed:  7.8min\n",
      "[Parallel(n_jobs=-1)]: Done 1200 out of 1200 | elapsed: 11.9min finished\n"
     ]
    },
    {
     "data": {
      "text/plain": [
       "RandomForestClassifier(bootstrap=True, ccp_alpha=0.0, class_weight=None,\n",
       "                       criterion='gini', max_depth=30, max_features='auto',\n",
       "                       max_leaf_nodes=None, max_samples=None,\n",
       "                       min_impurity_decrease=0.0, min_impurity_split=None,\n",
       "                       min_samples_leaf=1, min_samples_split=2,\n",
       "                       min_weight_fraction_leaf=0.0, n_estimators=1200,\n",
       "                       n_jobs=-1, oob_score=False, random_state=None, verbose=1,\n",
       "                       warm_start=False)"
      ]
     },
     "execution_count": 59,
     "metadata": {},
     "output_type": "execute_result"
    }
   ],
   "source": [
    "# Create and train the expanded model on only the important features\n",
    "forest3 = RandomForestClassifier(max_depth= 30, min_samples_leaf= 1, min_samples_split= 2, \n",
    "                                 n_estimators = 1200, verbose = 1, n_jobs = -1)\n",
    "forest3.fit(important80_X_train, y_train)"
   ]
  },
  {
   "cell_type": "code",
   "execution_count": 60,
   "metadata": {},
   "outputs": [
    {
     "name": "stderr",
     "output_type": "stream",
     "text": [
      "[Parallel(n_jobs=8)]: Using backend ThreadingBackend with 8 concurrent workers.\n",
      "[Parallel(n_jobs=8)]: Done  34 tasks      | elapsed:    1.5s\n",
      "[Parallel(n_jobs=8)]: Done 184 tasks      | elapsed:    7.3s\n",
      "[Parallel(n_jobs=8)]: Done 434 tasks      | elapsed:   16.8s\n",
      "[Parallel(n_jobs=8)]: Done 784 tasks      | elapsed:   30.6s\n",
      "[Parallel(n_jobs=8)]: Done 1200 out of 1200 | elapsed:   46.3s finished\n",
      "[Parallel(n_jobs=8)]: Using backend ThreadingBackend with 8 concurrent workers.\n",
      "[Parallel(n_jobs=8)]: Done  34 tasks      | elapsed:    1.4s\n",
      "[Parallel(n_jobs=8)]: Done 184 tasks      | elapsed:    7.4s\n",
      "[Parallel(n_jobs=8)]: Done 434 tasks      | elapsed:   16.8s\n",
      "[Parallel(n_jobs=8)]: Done 784 tasks      | elapsed:   30.1s\n",
      "[Parallel(n_jobs=8)]: Done 1200 out of 1200 | elapsed:   45.8s finished\n"
     ]
    },
    {
     "name": "stdout",
     "output_type": "stream",
     "text": [
      "Area under ROC = 0.68\n"
     ]
    }
   ],
   "source": [
    "# Prediction test labels\n",
    "predictions = forest3.predict(important80_X_test)\n",
    "proba = forest3.predict_proba(important80_X_test)\n",
    "# Assess performance: ROC and AUC\n",
    "fpr, tpr, _ = metrics.roc_curve(y_test, proba[:,1])\n",
    "# Assess performance: ROC and AUC\n",
    "fpr, tpr, _ = metrics.roc_curve(y_test, proba[:,1])\n",
    "auc = metrics.auc(fpr, tpr)\n",
    "print('Area under ROC =', np.round(auc, 2))"
   ]
  },
  {
   "cell_type": "code",
   "execution_count": 62,
   "metadata": {},
   "outputs": [
    {
     "name": "stdout",
     "output_type": "stream",
     "text": [
      "Area under ROC = 0.68\n"
     ]
    },
    {
     "data": {
      "image/png": "[encoded data removed]",
      "text/plain": [
       "<Figure size 432x288 with 1 Axes>"
      ]
     },
     "metadata": {
      "needs_background": "light"
     },
     "output_type": "display_data"
    }
   ],
   "source": [
    "#Plot ROC\n",
    "fpr, tpr, _ = metrics.roc_curve(y_test, proba[:,1])\n",
    "auc = metrics.auc(fpr, tpr)\n",
    "print('Area under ROC =', np.round(auc, 2))\n",
    "\n",
    "plt.plot([0, 1], [0, 1], 'k--')\n",
    "plt.plot(fpr, tpr, label='Random forest (features 70% importance)')\n",
    "plt.xlabel('False positive rate')\n",
    "plt.ylabel('True positive rate')\n",
    "plt.title('ROC curve')\n",
    "plt.legend(loc='best')\n",
    "plt.show()"
   ]
  },
  {
   "cell_type": "code",
   "execution_count": 20,
   "metadata": {},
   "outputs": [
    {
     "name": "stdout",
     "output_type": "stream",
     "text": [
      "Precision : 0.745\n",
      "Recall : 0.117\n",
      "Accuracy :  0.923\n"
     ]
    }
   ],
   "source": [
    "# Print precision, recall and accuracy score\n",
    "print('Precision : {0:0.3f}'.format(metrics.precision_score(y_test, predictions)))\n",
    "print('Recall :', np.round(metrics.recall_score(y_test, predictions),3))\n",
    "print('Accuracy : ',np.round(metrics.accuracy_score(y_test, predictions),3))"
   ]
  },
  {
   "cell_type": "code",
   "execution_count": 17,
   "metadata": {},
   "outputs": [
    {
     "name": "stdout",
     "output_type": "stream",
     "text": [
      "Fitting 3 folds for each of 12 candidates, totalling 36 fits\n"
     ]
    },
    {
     "name": "stderr",
     "output_type": "stream",
     "text": [
      "[Parallel(n_jobs=-1)]: Using backend LokyBackend with 8 concurrent workers.\n",
      "[Parallel(n_jobs=-1)]: Done  36 out of  36 | elapsed: 264.7min finished\n",
      "[Parallel(n_jobs=1)]: Using backend SequentialBackend with 1 concurrent workers.\n",
      "[Parallel(n_jobs=1)]: Done 1200 out of 1200 | elapsed: 44.3min finished\n"
     ]
    },
    {
     "data": {
      "text/plain": [
       "GridSearchCV(cv=3, error_score=nan,\n",
       "             estimator=RandomForestClassifier(bootstrap=True, ccp_alpha=0.0,\n",
       "                                              class_weight=None,\n",
       "                                              criterion='gini', max_depth=None,\n",
       "                                              max_features='auto',\n",
       "                                              max_leaf_nodes=None,\n",
       "                                              max_samples=None,\n",
       "                                              min_impurity_decrease=0.0,\n",
       "                                              min_impurity_split=None,\n",
       "                                              min_samples_leaf=1,\n",
       "                                              min_samples_split=2,\n",
       "                                              min_weight_fraction_leaf=0.0,\n",
       "                                              n_estimators=100, n_jobs=None,\n",
       "                                              oob_score=False,\n",
       "                                              random_state=None, verbose=1,\n",
       "                                              warm_start=False),\n",
       "             iid='deprecated', n_jobs=-1,\n",
       "             param_grid={'max_depth': [20, 30], 'min_samples_leaf': [1, 2],\n",
       "                         'min_samples_split': [2, 5, 10],\n",
       "                         'n_estimators': [1200]},\n",
       "             pre_dispatch='2*n_jobs', refit=True, return_train_score=False,\n",
       "             scoring=None, verbose=1)"
      ]
     },
     "execution_count": 17,
     "metadata": {},
     "output_type": "execute_result"
    }
   ],
   "source": [
    "forest4 = RandomForestClassifier(verbose = 1)\n",
    "n_estimators = [1200]\n",
    "max_depth = [20, 30]\n",
    "min_samples_split = [2, 5, 10]\n",
    "min_samples_leaf = [1, 2] \n",
    "\n",
    "hyperF = dict(n_estimators = n_estimators, max_depth = max_depth,  \n",
    "              min_samples_split = min_samples_split, \n",
    "             min_samples_leaf = min_samples_leaf)\n",
    "\n",
    "gridF = GridSearchCV(forest4, hyperF, cv = 3, verbose = 1, \n",
    "                      n_jobs = -1)\n",
    "gridF.fit(important80_X_train, y_train)"
   ]
  },
  {
   "cell_type": "code",
   "execution_count": 18,
   "metadata": {},
   "outputs": [
    {
     "data": {
      "text/plain": [
       "{'max_depth': 20,\n",
       " 'min_samples_leaf': 1,\n",
       " 'min_samples_split': 2,\n",
       " 'n_estimators': 1200}"
      ]
     },
     "execution_count": 18,
     "metadata": {},
     "output_type": "execute_result"
    }
   ],
   "source": [
    "gridF.best_params_"
   ]
  },
  {
   "cell_type": "code",
   "execution_count": 63,
   "metadata": {},
   "outputs": [
    {
     "name": "stderr",
     "output_type": "stream",
     "text": [
      "[Parallel(n_jobs=1)]: Using backend SequentialBackend with 1 concurrent workers.\n",
      "[Parallel(n_jobs=1)]: Done 1200 out of 1200 | elapsed: 51.1min finished\n"
     ]
    },
    {
     "data": {
      "text/plain": [
       "RandomForestClassifier(bootstrap=True, ccp_alpha=0.0, class_weight=None,\n",
       "                       criterion='gini', max_depth=30, max_features='auto',\n",
       "                       max_leaf_nodes=None, max_samples=None,\n",
       "                       min_impurity_decrease=0.0, min_impurity_split=None,\n",
       "                       min_samples_leaf=1, min_samples_split=2,\n",
       "                       min_weight_fraction_leaf=0.0, n_estimators=1200,\n",
       "                       n_jobs=None, oob_score=False, random_state=None,\n",
       "                       verbose=1, warm_start=False)"
      ]
     },
     "execution_count": 63,
     "metadata": {},
     "output_type": "execute_result"
    }
   ],
   "source": [
    "forest4 = RandomForestClassifier(max_depth= 30, min_samples_leaf= 1, min_samples_split= 2, \n",
    "                                 n_estimators= 1200, verbose = 1)\n",
    "forest4.fit(important80_X_train, y_train)"
   ]
  },
  {
   "cell_type": "code",
   "execution_count": 64,
   "metadata": {},
   "outputs": [
    {
     "name": "stderr",
     "output_type": "stream",
     "text": [
      "[Parallel(n_jobs=1)]: Using backend SequentialBackend with 1 concurrent workers.\n",
      "[Parallel(n_jobs=1)]: Done 1200 out of 1200 | elapsed:  3.3min finished\n",
      "[Parallel(n_jobs=1)]: Using backend SequentialBackend with 1 concurrent workers.\n",
      "[Parallel(n_jobs=1)]: Done 1200 out of 1200 | elapsed:  3.2min finished\n"
     ]
    }
   ],
   "source": [
    "# Prediction test labels\n",
    "predictions = forest4.predict(important80_X_test)\n",
    "proba = forest4.predict_proba(important80_X_test)\n"
   ]
  },
  {
   "cell_type": "code",
   "execution_count": 65,
   "metadata": {},
   "outputs": [
    {
     "name": "stdout",
     "output_type": "stream",
     "text": [
      "Area under ROC = 0.68\n"
     ]
    },
    {
     "data": {
      "image/png": "[encoded data removed]",
      "text/plain": [
       "<Figure size 432x288 with 1 Axes>"
      ]
     },
     "metadata": {
      "needs_background": "light"
     },
     "output_type": "display_data"
    }
   ],
   "source": [
    "#Plot ROC\n",
    "# Assess performance: ROC and AUC\n",
    "fpr, tpr, _ = metrics.roc_curve(y_test, proba[:,1])\n",
    "auc = metrics.auc(fpr, tpr)\n",
    "print('Area under ROC =', np.round(auc, 2))\n",
    "\n",
    "plt.plot([0, 1], [0, 1], 'k--')\n",
    "plt.plot(fpr, tpr, label='Random forest (tuned, features cumulating to 70% of importance)')\n",
    "plt.xlabel('False positive rate')\n",
    "plt.ylabel('True positive rate')\n",
    "plt.title('ROC curve')\n",
    "plt.legend(loc='best')\n",
    "plt.show()"
   ]
  },
  {
   "cell_type": "code",
   "execution_count": 22,
   "metadata": {},
   "outputs": [
    {
     "name": "stdout",
     "output_type": "stream",
     "text": [
      "Precision : 0.747\n",
      "Recall : 0.117\n",
      "Accuracy :  0.923\n"
     ]
    }
   ],
   "source": [
    "# Print precision, recall and accuracy score\n",
    "print('Precision : {0:0.3f}'.format(metrics.precision_score(y_test, predictions)))\n",
    "print('Recall :', np.round(metrics.recall_score(y_test, predictions),3))\n",
    "print('Accuracy : ',np.round(metrics.accuracy_score(y_test, predictions),3))"
   ]
  },
  {
   "cell_type": "markdown",
   "metadata": {},
   "source": [
    "The best result we achieved with random forest classifiers was when all the features were used and the hyperpartameters were tuned, and the result is not very far from the off-the-shelf model. \n",
    "\n",
    "We will try a Naive Bayes classifier then Catboost.\n"
   ]
  },
  {
   "cell_type": "markdown",
   "metadata": {},
   "source": [
    "### 5. Naive Bayes"
   ]
  },
  {
   "cell_type": "code",
   "execution_count": 67,
   "metadata": {},
   "outputs": [
    {
     "data": {
      "text/plain": [
       "GaussianNB(priors=None, var_smoothing=1e-09)"
      ]
     },
     "execution_count": 67,
     "metadata": {},
     "output_type": "execute_result"
    }
   ],
   "source": [
    "from sklearn.naive_bayes import GaussianNB\n",
    "NB = GaussianNB()\n",
    "NB.fit(standardized_X, y_train)"
   ]
  },
  {
   "cell_type": "code",
   "execution_count": 68,
   "metadata": {},
   "outputs": [],
   "source": [
    "# Prediction test labels\n",
    "predictions = NB.predict(standardized_X_test)\n",
    "proba = NB.predict_proba(standardized_X_test)"
   ]
  },
  {
   "cell_type": "code",
   "execution_count": 69,
   "metadata": {},
   "outputs": [
    {
     "name": "stdout",
     "output_type": "stream",
     "text": [
      "Area under ROC = 0.68\n"
     ]
    },
    {
     "data": {
      "image/png": "[encoded data removed]",
      "text/plain": [
       "<Figure size 432x288 with 1 Axes>"
      ]
     },
     "metadata": {
      "needs_background": "light"
     },
     "output_type": "display_data"
    }
   ],
   "source": [
    "#Plot ROC\n",
    "fpr, tpr, _ = metrics.roc_curve(y_test, proba[:,1])\n",
    "auc = metrics.auc(fpr, tpr)\n",
    "print('Area under ROC =', np.round(auc, 2))\n",
    "\n",
    "plt.plot([0, 1], [0, 1], 'k--')\n",
    "plt.plot(fpr, tpr, label='Gaussian Naive Bayes')\n",
    "plt.xlabel('False positive rate')\n",
    "plt.ylabel('True positive rate')\n",
    "plt.title('ROC curve')\n",
    "plt.legend(loc='best')\n",
    "plt.show()"
   ]
  },
  {
   "cell_type": "code",
   "execution_count": 70,
   "metadata": {},
   "outputs": [
    {
     "name": "stdout",
     "output_type": "stream",
     "text": [
      "Precision : 0.174\n",
      "Recall : 0.444\n",
      "Accuracy :  0.779\n"
     ]
    }
   ],
   "source": [
    "# Print precision, recall and accuracy score\n",
    "print('Precision : {0:0.3f}'.format(metrics.precision_score(y_test, predictions)))\n",
    "print('Recall :', np.round(metrics.recall_score(y_test, predictions),3))\n",
    "print('Accuracy : ',np.round(metrics.accuracy_score(y_test, predictions),3))"
   ]
  },
  {
   "cell_type": "code",
   "execution_count": 33,
   "metadata": {},
   "outputs": [
    {
     "name": "stdout",
     "output_type": "stream",
     "text": [
      "RF confusion matrix:  [[427015 100894]\n",
      " [ 26639  21308]]\n"
     ]
    },
    {
     "data": {
      "text/plain": [
       "<sklearn.metrics._plot.confusion_matrix.ConfusionMatrixDisplay at 0x1408c2368c8>"
      ]
     },
     "execution_count": 33,
     "metadata": {},
     "output_type": "execute_result"
    },
    {
     "data": {
      "image/png": "[encoded data removed]",
      "text/plain": [
       "<Figure size 432x288 with 2 Axes>"
      ]
     },
     "metadata": {
      "needs_background": "light"
     },
     "output_type": "display_data"
    }
   ],
   "source": [
    "# Confusion matrix\n",
    "confusion_matrix = metrics.confusion_matrix(y_test, predictions)\n",
    "print('RF confusion matrix: ', confusion_matrix)\n",
    "metrics.plot_confusion_matrix(NB, standardized_X_test, y_test)"
   ]
  },
  {
   "cell_type": "markdown",
   "metadata": {},
   "source": [
    "The Naive Bayes approach had a higher recall than all previous models, but a lower preicion and accuracy. However, it doesn't perform as well as Catboost, so we will move on to Catboost now. \n",
    "\n",
    "Other possible paths forward involve resampling to cancel out the effect of imbalanced classes, or use a metric such as AUC rather than Accuracy for hyperparameter tuning."
   ]
  },
  {
   "cell_type": "code",
   "execution_count": null,
   "metadata": {},
   "outputs": [],
   "source": []
  }
 ],
 "metadata": {
  "kernelspec": {
   "display_name": "Python 3",
   "language": "python",
   "name": "python3"
  },
  "language_info": {
   "codemirror_mode": {
    "name": "ipython",
    "version": 3
   },
   "file_extension": ".py",
   "mimetype": "text/x-python",
   "name": "python",
   "nbconvert_exporter": "python",
   "pygments_lexer": "ipython3",
   "version": "3.7.1"
  }
 },
 "nbformat": 4,
 "nbformat_minor": 2
}
